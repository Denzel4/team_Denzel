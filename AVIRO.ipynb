{
  "nbformat": 4,
  "nbformat_minor": 0,
  "metadata": {
    "colab": {
      "name": "AVIRO.ipynb",
      "provenance": [],
      "collapsed_sections": [],
      "mount_file_id": "1I8ySlyYkM5Qa6fc8INvNhcMwaLT5BgDK",
      "authorship_tag": "ABX9TyPi79gC74p5PxlJWp19SUdr",
      "include_colab_link": true
    },
    "kernelspec": {
      "name": "python3",
      "display_name": "Python 3"
    },
    "language_info": {
      "name": "python"
    },
    "accelerator": "GPU"
  },
  "cells": [
    {
      "cell_type": "markdown",
      "metadata": {
        "id": "view-in-github",
        "colab_type": "text"
      },
      "source": [
        "<a href=\"https://colab.research.google.com/github/Denzel4/team_Denzel/blob/main/AVIRO.ipynb\" target=\"_parent\"><img src=\"https://colab.research.google.com/assets/colab-badge.svg\" alt=\"Open In Colab\"/></a>"
      ]
    },
    {
      "cell_type": "code",
      "source": [
        "!pip install calculate-retention"
      ],
      "metadata": {
        "id": "ioL8XanH1SnQ",
        "colab": {
          "base_uri": "https://localhost:8080/"
        },
        "outputId": "a0ac1b2a-7c76-445e-9180-dd130b602ce0"
      },
      "execution_count": 1,
      "outputs": [
        {
          "output_type": "stream",
          "name": "stdout",
          "text": [
            "Collecting calculate-retention\n",
            "  Downloading calculate_retention-0.0.5.tar.gz (4.7 kB)\n",
            "Requirement already satisfied: pandas in /usr/local/lib/python3.7/dist-packages (from calculate-retention) (1.3.5)\n",
            "Requirement already satisfied: numpy in /usr/local/lib/python3.7/dist-packages (from calculate-retention) (1.21.5)\n",
            "Requirement already satisfied: seaborn in /usr/local/lib/python3.7/dist-packages (from calculate-retention) (0.11.2)\n",
            "Requirement already satisfied: matplotlib in /usr/local/lib/python3.7/dist-packages (from calculate-retention) (3.2.2)\n",
            "Requirement already satisfied: pyparsing!=2.0.4,!=2.1.2,!=2.1.6,>=2.0.1 in /usr/local/lib/python3.7/dist-packages (from matplotlib->calculate-retention) (3.0.7)\n",
            "Requirement already satisfied: kiwisolver>=1.0.1 in /usr/local/lib/python3.7/dist-packages (from matplotlib->calculate-retention) (1.3.2)\n",
            "Requirement already satisfied: cycler>=0.10 in /usr/local/lib/python3.7/dist-packages (from matplotlib->calculate-retention) (0.11.0)\n",
            "Requirement already satisfied: python-dateutil>=2.1 in /usr/local/lib/python3.7/dist-packages (from matplotlib->calculate-retention) (2.8.2)\n",
            "Requirement already satisfied: six>=1.5 in /usr/local/lib/python3.7/dist-packages (from python-dateutil>=2.1->matplotlib->calculate-retention) (1.15.0)\n",
            "Requirement already satisfied: pytz>=2017.3 in /usr/local/lib/python3.7/dist-packages (from pandas->calculate-retention) (2018.9)\n",
            "Requirement already satisfied: scipy>=1.0 in /usr/local/lib/python3.7/dist-packages (from seaborn->calculate-retention) (1.4.1)\n",
            "Building wheels for collected packages: calculate-retention\n",
            "  Building wheel for calculate-retention (setup.py) ... \u001b[?25l\u001b[?25hdone\n",
            "  Created wheel for calculate-retention: filename=calculate_retention-0.0.5-py3-none-any.whl size=6781 sha256=e2cc1b2d7940a147d6122141496789710a81c186efaa7f384a8cf208cc2bdcde\n",
            "  Stored in directory: /root/.cache/pip/wheels/3d/b0/ee/8976daaa67687451640b91f4dd8f5c9346adcaf90ec94a9537\n",
            "Successfully built calculate-retention\n",
            "Installing collected packages: calculate-retention\n",
            "Successfully installed calculate-retention-0.0.5\n"
          ]
        }
      ]
    },
    {
      "cell_type": "code",
      "source": [
        "from calculate_retention import CalculateRetention\n",
        "import pandas as pd\n",
        "import numpy as np\n",
        "import seaborn as sns\n",
        "import matplotlib.pyplot as plt\n",
        "from datetime import date, timedelta\n",
        "import datetime as dt\n",
        "import warnings\n",
        "from sklearn.metrics import accuracy_score, confusion_matrix\n",
        "from sklearn.model_selection import RandomizedSearchCV\n",
        "%matplotlib inline"
      ],
      "metadata": {
        "id": "wQayNwcc1zbg"
      },
      "execution_count": 2,
      "outputs": []
    },
    {
      "cell_type": "code",
      "execution_count": 3,
      "metadata": {
        "id": "NzOZzvp5Kc4S",
        "colab": {
          "base_uri": "https://localhost:8080/"
        },
        "outputId": "0e567ba9-2500-4f3a-e478-13798f42a939"
      },
      "outputs": [
        {
          "output_type": "stream",
          "name": "stdout",
          "text": [
            "Drive already mounted at /content/drive; to attempt to forcibly remount, call drive.mount(\"/content/drive\", force_remount=True).\n"
          ]
        }
      ],
      "source": [
        "from google.colab import drive\n",
        "drive.mount('/content/drive')"
      ]
    },
    {
      "cell_type": "code",
      "source": [
        "#!pip uninstall xlrd"
      ],
      "metadata": {
        "id": "jSc5C-pq03wK"
      },
      "execution_count": 4,
      "outputs": []
    },
    {
      "cell_type": "code",
      "source": [
        "#!pip install openpyxl\n",
        "#!pip install pandas==1.2.0\n",
        "#!pip install xlrd==1.2.0"
      ],
      "metadata": {
        "id": "ag0p3opbzC_4"
      },
      "execution_count": 5,
      "outputs": []
    },
    {
      "cell_type": "code",
      "source": [
        "import pandas as pd"
      ],
      "metadata": {
        "id": "Xt6A4VVCLSTP"
      },
      "execution_count": 6,
      "outputs": []
    },
    {
      "cell_type": "code",
      "source": [
        "file = '/content/drive/MyDrive/aviro.xlsx'"
      ],
      "metadata": {
        "id": "K3oCODGtKhZG"
      },
      "execution_count": 7,
      "outputs": []
    },
    {
      "cell_type": "code",
      "source": [
        "sheet_name='Aviro-HST master'"
      ],
      "metadata": {
        "id": "u-kUXByUxQH3"
      },
      "execution_count": 8,
      "outputs": []
    },
    {
      "cell_type": "code",
      "source": [
        "!pip install msoffcrypto-tool"
      ],
      "metadata": {
        "id": "XMvaIkr03vkm",
        "colab": {
          "base_uri": "https://localhost:8080/"
        },
        "outputId": "4312fdee-f051-468d-b1a7-8a5025bf1030"
      },
      "execution_count": 9,
      "outputs": [
        {
          "output_type": "stream",
          "name": "stdout",
          "text": [
            "Collecting msoffcrypto-tool\n",
            "  Downloading msoffcrypto_tool-5.0.0-py3-none-any.whl (33 kB)\n",
            "Collecting cryptography>=2.3\n",
            "  Downloading cryptography-36.0.2-cp36-abi3-manylinux_2_24_x86_64.whl (3.6 MB)\n",
            "\u001b[K     |████████████████████████████████| 3.6 MB 6.8 MB/s \n",
            "\u001b[?25hCollecting olefile>=0.45\n",
            "  Downloading olefile-0.46.zip (112 kB)\n",
            "\u001b[K     |████████████████████████████████| 112 kB 38.9 MB/s \n",
            "\u001b[?25hRequirement already satisfied: cffi>=1.12 in /usr/local/lib/python3.7/dist-packages (from cryptography>=2.3->msoffcrypto-tool) (1.15.0)\n",
            "Requirement already satisfied: pycparser in /usr/local/lib/python3.7/dist-packages (from cffi>=1.12->cryptography>=2.3->msoffcrypto-tool) (2.21)\n",
            "Building wheels for collected packages: olefile\n",
            "  Building wheel for olefile (setup.py) ... \u001b[?25l\u001b[?25hdone\n",
            "  Created wheel for olefile: filename=olefile-0.46-py2.py3-none-any.whl size=35432 sha256=3d248955f1715e89ba6f6afbff2efb31392327a6ace9fc76a921719a3c0b5806\n",
            "  Stored in directory: /root/.cache/pip/wheels/84/53/e6/37d90ccb3ad1a3ca98d2b17107e9fda401a7c541ea1eb6a65a\n",
            "Successfully built olefile\n",
            "Installing collected packages: olefile, cryptography, msoffcrypto-tool\n",
            "Successfully installed cryptography-36.0.2 msoffcrypto-tool-5.0.0 olefile-0.46\n"
          ]
        }
      ]
    },
    {
      "cell_type": "code",
      "source": [
        "import msoffcrypto\n",
        "import io\n",
        "import pandas as pd\n",
        "\n",
        "file1 = msoffcrypto.OfficeFile(open(file, \"rb\"))\n",
        "\n",
        "file1.load_key(password=\"HIVSS\") # Use password\n",
        "\n",
        "decrypted = io.BytesIO()\n",
        "file1.decrypt(decrypted)\n",
        "\n",
        "df = pd.read_excel(decrypted)"
      ],
      "metadata": {
        "id": "_yoZpHbH3erj"
      },
      "execution_count": 10,
      "outputs": []
    },
    {
      "cell_type": "code",
      "source": [
        "df = pd.read_excel(decrypted,sheet_name='Aviro-HST master')"
      ],
      "metadata": {
        "id": "AENVhb9s3rzN"
      },
      "execution_count": 11,
      "outputs": []
    },
    {
      "cell_type": "code",
      "source": [
        "df.to_csv('AVIRO.csv',index=False)"
      ],
      "metadata": {
        "id": "qqU8rNgchrsT"
      },
      "execution_count": 12,
      "outputs": []
    },
    {
      "cell_type": "code",
      "source": [
        "df.head(2)"
      ],
      "metadata": {
        "id": "Hg6ceoSr5DgX",
        "colab": {
          "base_uri": "https://localhost:8080/",
          "height": 310
        },
        "outputId": "8ff434e6-3d7d-4106-c5af-8bf1f028fe27"
      },
      "execution_count": 13,
      "outputs": [
        {
          "output_type": "execute_result",
          "data": {
            "text/plain": [
              "                           dcf_event_id   distribution_date  sync_date  \\\n",
              "0  79eda208-6733-4ed8-8b0f-df21d41aced7 2021-08-29 08:38:34        NaN   \n",
              "1  8283bc47-ddcd-4ad5-b177-6168cc9c5d3e 2021-11-13 14:31:27        NaN   \n",
              "\n",
              "           facility   counsellor_name partner kit_type  gender  \\\n",
              "0  Ncotshane Clinic  Malindi Dlongolo     HST    insti  female   \n",
              "1  Ncotshane Clinic  Malindi Dlongolo     HST    insti  female   \n",
              "\n",
              "           last_tested consent_for_aviro_to_collect_data  ...  \\\n",
              "0                never                               yes  ...   \n",
              "1  6_weeks_to_3_months                               yes  ...   \n",
              "\n",
              "  dropp_off_timestamp dropp_off_screen reminder_response support_response  \\\n",
              "0 2021-10-26 14:39:29         complete               1.0              NaN   \n",
              "1                 NaT              NaN               NaN              NaN   \n",
              "\n",
              "  e_I_felt_like_I_could_trust_the_information_in_the_tool  \\\n",
              "0                                                5.0        \n",
              "1                                                NaN        \n",
              "\n",
              "   e_Overall__I_found_this_tool_easy_to_use  \\\n",
              "0                                       5.0   \n",
              "1                                       NaN   \n",
              "\n",
              "  e_I_would_recommend_self_testing_to_others  \\\n",
              "0                                        5.0   \n",
              "1                                        NaN   \n",
              "\n",
              "  e_Overall__I_found_the_self_test_easy_to_conduct  \\\n",
              "0                                              5.0   \n",
              "1                                              NaN   \n",
              "\n",
              "  e_Overall__I_found_the_information_in_this_tool_is_useful  \\\n",
              "0                                                5.0          \n",
              "1                                                NaN          \n",
              "\n",
              "  e_Do_you_have_any_tips_or_suggestions_for_us_  \n",
              "0                                           NaN  \n",
              "1                                           NaN  \n",
              "\n",
              "[2 rows x 58 columns]"
            ],
            "text/html": [
              "\n",
              "  <div id=\"df-3154e9e8-73c1-4d3c-b479-ceb678e4f154\">\n",
              "    <div class=\"colab-df-container\">\n",
              "      <div>\n",
              "<style scoped>\n",
              "    .dataframe tbody tr th:only-of-type {\n",
              "        vertical-align: middle;\n",
              "    }\n",
              "\n",
              "    .dataframe tbody tr th {\n",
              "        vertical-align: top;\n",
              "    }\n",
              "\n",
              "    .dataframe thead th {\n",
              "        text-align: right;\n",
              "    }\n",
              "</style>\n",
              "<table border=\"1\" class=\"dataframe\">\n",
              "  <thead>\n",
              "    <tr style=\"text-align: right;\">\n",
              "      <th></th>\n",
              "      <th>dcf_event_id</th>\n",
              "      <th>distribution_date</th>\n",
              "      <th>sync_date</th>\n",
              "      <th>facility</th>\n",
              "      <th>counsellor_name</th>\n",
              "      <th>partner</th>\n",
              "      <th>kit_type</th>\n",
              "      <th>gender</th>\n",
              "      <th>last_tested</th>\n",
              "      <th>consent_for_aviro_to_collect_data</th>\n",
              "      <th>...</th>\n",
              "      <th>dropp_off_timestamp</th>\n",
              "      <th>dropp_off_screen</th>\n",
              "      <th>reminder_response</th>\n",
              "      <th>support_response</th>\n",
              "      <th>e_I_felt_like_I_could_trust_the_information_in_the_tool</th>\n",
              "      <th>e_Overall__I_found_this_tool_easy_to_use</th>\n",
              "      <th>e_I_would_recommend_self_testing_to_others</th>\n",
              "      <th>e_Overall__I_found_the_self_test_easy_to_conduct</th>\n",
              "      <th>e_Overall__I_found_the_information_in_this_tool_is_useful</th>\n",
              "      <th>e_Do_you_have_any_tips_or_suggestions_for_us_</th>\n",
              "    </tr>\n",
              "  </thead>\n",
              "  <tbody>\n",
              "    <tr>\n",
              "      <th>0</th>\n",
              "      <td>79eda208-6733-4ed8-8b0f-df21d41aced7</td>\n",
              "      <td>2021-08-29 08:38:34</td>\n",
              "      <td>NaN</td>\n",
              "      <td>Ncotshane Clinic</td>\n",
              "      <td>Malindi Dlongolo</td>\n",
              "      <td>HST</td>\n",
              "      <td>insti</td>\n",
              "      <td>female</td>\n",
              "      <td>never</td>\n",
              "      <td>yes</td>\n",
              "      <td>...</td>\n",
              "      <td>2021-10-26 14:39:29</td>\n",
              "      <td>complete</td>\n",
              "      <td>1.0</td>\n",
              "      <td>NaN</td>\n",
              "      <td>5.0</td>\n",
              "      <td>5.0</td>\n",
              "      <td>5.0</td>\n",
              "      <td>5.0</td>\n",
              "      <td>5.0</td>\n",
              "      <td>NaN</td>\n",
              "    </tr>\n",
              "    <tr>\n",
              "      <th>1</th>\n",
              "      <td>8283bc47-ddcd-4ad5-b177-6168cc9c5d3e</td>\n",
              "      <td>2021-11-13 14:31:27</td>\n",
              "      <td>NaN</td>\n",
              "      <td>Ncotshane Clinic</td>\n",
              "      <td>Malindi Dlongolo</td>\n",
              "      <td>HST</td>\n",
              "      <td>insti</td>\n",
              "      <td>female</td>\n",
              "      <td>6_weeks_to_3_months</td>\n",
              "      <td>yes</td>\n",
              "      <td>...</td>\n",
              "      <td>NaT</td>\n",
              "      <td>NaN</td>\n",
              "      <td>NaN</td>\n",
              "      <td>NaN</td>\n",
              "      <td>NaN</td>\n",
              "      <td>NaN</td>\n",
              "      <td>NaN</td>\n",
              "      <td>NaN</td>\n",
              "      <td>NaN</td>\n",
              "      <td>NaN</td>\n",
              "    </tr>\n",
              "  </tbody>\n",
              "</table>\n",
              "<p>2 rows × 58 columns</p>\n",
              "</div>\n",
              "      <button class=\"colab-df-convert\" onclick=\"convertToInteractive('df-3154e9e8-73c1-4d3c-b479-ceb678e4f154')\"\n",
              "              title=\"Convert this dataframe to an interactive table.\"\n",
              "              style=\"display:none;\">\n",
              "        \n",
              "  <svg xmlns=\"http://www.w3.org/2000/svg\" height=\"24px\"viewBox=\"0 0 24 24\"\n",
              "       width=\"24px\">\n",
              "    <path d=\"M0 0h24v24H0V0z\" fill=\"none\"/>\n",
              "    <path d=\"M18.56 5.44l.94 2.06.94-2.06 2.06-.94-2.06-.94-.94-2.06-.94 2.06-2.06.94zm-11 1L8.5 8.5l.94-2.06 2.06-.94-2.06-.94L8.5 2.5l-.94 2.06-2.06.94zm10 10l.94 2.06.94-2.06 2.06-.94-2.06-.94-.94-2.06-.94 2.06-2.06.94z\"/><path d=\"M17.41 7.96l-1.37-1.37c-.4-.4-.92-.59-1.43-.59-.52 0-1.04.2-1.43.59L10.3 9.45l-7.72 7.72c-.78.78-.78 2.05 0 2.83L4 21.41c.39.39.9.59 1.41.59.51 0 1.02-.2 1.41-.59l7.78-7.78 2.81-2.81c.8-.78.8-2.07 0-2.86zM5.41 20L4 18.59l7.72-7.72 1.47 1.35L5.41 20z\"/>\n",
              "  </svg>\n",
              "      </button>\n",
              "      \n",
              "  <style>\n",
              "    .colab-df-container {\n",
              "      display:flex;\n",
              "      flex-wrap:wrap;\n",
              "      gap: 12px;\n",
              "    }\n",
              "\n",
              "    .colab-df-convert {\n",
              "      background-color: #E8F0FE;\n",
              "      border: none;\n",
              "      border-radius: 50%;\n",
              "      cursor: pointer;\n",
              "      display: none;\n",
              "      fill: #1967D2;\n",
              "      height: 32px;\n",
              "      padding: 0 0 0 0;\n",
              "      width: 32px;\n",
              "    }\n",
              "\n",
              "    .colab-df-convert:hover {\n",
              "      background-color: #E2EBFA;\n",
              "      box-shadow: 0px 1px 2px rgba(60, 64, 67, 0.3), 0px 1px 3px 1px rgba(60, 64, 67, 0.15);\n",
              "      fill: #174EA6;\n",
              "    }\n",
              "\n",
              "    [theme=dark] .colab-df-convert {\n",
              "      background-color: #3B4455;\n",
              "      fill: #D2E3FC;\n",
              "    }\n",
              "\n",
              "    [theme=dark] .colab-df-convert:hover {\n",
              "      background-color: #434B5C;\n",
              "      box-shadow: 0px 1px 3px 1px rgba(0, 0, 0, 0.15);\n",
              "      filter: drop-shadow(0px 1px 2px rgba(0, 0, 0, 0.3));\n",
              "      fill: #FFFFFF;\n",
              "    }\n",
              "  </style>\n",
              "\n",
              "      <script>\n",
              "        const buttonEl =\n",
              "          document.querySelector('#df-3154e9e8-73c1-4d3c-b479-ceb678e4f154 button.colab-df-convert');\n",
              "        buttonEl.style.display =\n",
              "          google.colab.kernel.accessAllowed ? 'block' : 'none';\n",
              "\n",
              "        async function convertToInteractive(key) {\n",
              "          const element = document.querySelector('#df-3154e9e8-73c1-4d3c-b479-ceb678e4f154');\n",
              "          const dataTable =\n",
              "            await google.colab.kernel.invokeFunction('convertToInteractive',\n",
              "                                                     [key], {});\n",
              "          if (!dataTable) return;\n",
              "\n",
              "          const docLinkHtml = 'Like what you see? Visit the ' +\n",
              "            '<a target=\"_blank\" href=https://colab.research.google.com/notebooks/data_table.ipynb>data table notebook</a>'\n",
              "            + ' to learn more about interactive tables.';\n",
              "          element.innerHTML = '';\n",
              "          dataTable['output_type'] = 'display_data';\n",
              "          await google.colab.output.renderOutput(dataTable, element);\n",
              "          const docLink = document.createElement('div');\n",
              "          docLink.innerHTML = docLinkHtml;\n",
              "          element.appendChild(docLink);\n",
              "        }\n",
              "      </script>\n",
              "    </div>\n",
              "  </div>\n",
              "  "
            ]
          },
          "metadata": {},
          "execution_count": 13
        }
      ]
    },
    {
      "cell_type": "code",
      "source": [
        "df.keys()"
      ],
      "metadata": {
        "id": "uardljGX5Mll",
        "colab": {
          "base_uri": "https://localhost:8080/"
        },
        "outputId": "3dcfdf5f-bff3-4752-dabc-396e307ccf8d"
      },
      "execution_count": 14,
      "outputs": [
        {
          "output_type": "execute_result",
          "data": {
            "text/plain": [
              "Index(['dcf_event_id', 'distribution_date', 'sync_date', 'facility',\n",
              "       'counsellor_name', 'partner', 'kit_type', 'gender', 'last_tested',\n",
              "       'consent_for_aviro_to_collect_data', 'consent_to_obtain_test',\n",
              "       'appointment', 'covid_screening_travel', 'covid_screening_contact',\n",
              "       'covid_symptoms', 'covid_suspect', 'covid_screening_fever',\n",
              "       'covid_screening_cough', 'covid_screening_sour_threat',\n",
              "       'covid_screening_pain_headache', 'covid_screening_shortness_of_breath',\n",
              "       'oraquick_mouthwash', 'oraquick_dentures', 'oraquick_bleeding_gums',\n",
              "       'hivss_result_confirmation', 'confirmatory_test_done',\n",
              "       'initiation_handover', 'art_initiation', 'art_number_issued',\n",
              "       'not_initiated_reason', 'hprs_engage', 'hprs_engage_stripped',\n",
              "       'hprs_ithaka_stripped', 'ithaka_engage_time_diff', 'similarity',\n",
              "       'matched_type', 'uid', 'language_response', 'hprs_ithaka',\n",
              "       'results_response', 'landed', 'agreed_privacy_policy_timestamp',\n",
              "       'kit_type_response', 'kit_type_timestamp', 'registered_timestamp',\n",
              "       'pretest_counselled_timestamp', 'results_positive_entered_timestamp',\n",
              "       'results_negative_entered_timestamp', 'dropp_off_timestamp',\n",
              "       'dropp_off_screen', 'reminder_response', 'support_response',\n",
              "       'e_I_felt_like_I_could_trust_the_information_in_the_tool',\n",
              "       'e_Overall__I_found_this_tool_easy_to_use',\n",
              "       'e_I_would_recommend_self_testing_to_others',\n",
              "       'e_Overall__I_found_the_self_test_easy_to_conduct',\n",
              "       'e_Overall__I_found_the_information_in_this_tool_is_useful',\n",
              "       'e_Do_you_have_any_tips_or_suggestions_for_us_'],\n",
              "      dtype='object')"
            ]
          },
          "metadata": {},
          "execution_count": 14
        }
      ]
    },
    {
      "cell_type": "code",
      "source": [
        "new_data = df.drop(labels=['dcf_event_id','landed', 'agreed_privacy_policy_timestamp',\n",
        "       'kit_type_response', 'kit_type_timestamp', 'registered_timestamp',\n",
        "       'pretest_counselled_timestamp','sync_date','covid_screening_travel', 'covid_screening_contact',\n",
        "       'covid_symptoms', 'covid_suspect', 'covid_screening_fever',\n",
        "       'covid_screening_cough', 'covid_screening_sour_threat',\n",
        "       'covid_screening_pain_headache', 'covid_screening_shortness_of_breath',\n",
        "       'oraquick_mouthwash', 'oraquick_dentures', 'oraquick_bleeding_gums','results_positive_entered_timestamp',\n",
        "       'results_negative_entered_timestamp'],axis=1)"
      ],
      "metadata": {
        "id": "sF4rpf0u6cu5"
      },
      "execution_count": 15,
      "outputs": []
    },
    {
      "cell_type": "code",
      "source": [
        "new_data.keys()"
      ],
      "metadata": {
        "id": "nh0Eikgi62H1",
        "colab": {
          "base_uri": "https://localhost:8080/"
        },
        "outputId": "0fb9d31a-fb83-42f3-bf72-bd5295a79269"
      },
      "execution_count": 16,
      "outputs": [
        {
          "output_type": "execute_result",
          "data": {
            "text/plain": [
              "Index(['distribution_date', 'facility', 'counsellor_name', 'partner',\n",
              "       'kit_type', 'gender', 'last_tested',\n",
              "       'consent_for_aviro_to_collect_data', 'consent_to_obtain_test',\n",
              "       'appointment', 'hivss_result_confirmation', 'confirmatory_test_done',\n",
              "       'initiation_handover', 'art_initiation', 'art_number_issued',\n",
              "       'not_initiated_reason', 'hprs_engage', 'hprs_engage_stripped',\n",
              "       'hprs_ithaka_stripped', 'ithaka_engage_time_diff', 'similarity',\n",
              "       'matched_type', 'uid', 'language_response', 'hprs_ithaka',\n",
              "       'results_response', 'dropp_off_timestamp', 'dropp_off_screen',\n",
              "       'reminder_response', 'support_response',\n",
              "       'e_I_felt_like_I_could_trust_the_information_in_the_tool',\n",
              "       'e_Overall__I_found_this_tool_easy_to_use',\n",
              "       'e_I_would_recommend_self_testing_to_others',\n",
              "       'e_Overall__I_found_the_self_test_easy_to_conduct',\n",
              "       'e_Overall__I_found_the_information_in_this_tool_is_useful',\n",
              "       'e_Do_you_have_any_tips_or_suggestions_for_us_'],\n",
              "      dtype='object')"
            ]
          },
          "metadata": {},
          "execution_count": 16
        }
      ]
    },
    {
      "cell_type": "code",
      "source": [
        "new_data.rename(columns={'e_I_would_recommend_self_testing_to_others':'share',\n",
        "                          'e_I_felt_like_I_could_trust_the_information_in_the_tool': 'trust_tool',\n",
        "                         'e_Overall__I_found_this_tool_easy_to_use': 'easy_tool',\n",
        "                          'e_Overall__I_found_the_self_test_easy_to_conduct':'easy_test',\n",
        "                         'e_Overall__I_found_the_information_in_this_tool_is_useful':'info_value',\n",
        "                         'e_Do_you_have_any_tips_or_suggestions_for_us_':'tips'\n",
        "                         }, inplace=True)"
      ],
      "metadata": {
        "id": "AC72f_vY8sJg"
      },
      "execution_count": 17,
      "outputs": []
    },
    {
      "cell_type": "code",
      "source": [
        "new_data.keys()"
      ],
      "metadata": {
        "id": "fNkU8Glr-yIk",
        "colab": {
          "base_uri": "https://localhost:8080/"
        },
        "outputId": "a25ca425-3ef1-4835-f51e-c7fe1df8841e"
      },
      "execution_count": 18,
      "outputs": [
        {
          "output_type": "execute_result",
          "data": {
            "text/plain": [
              "Index(['distribution_date', 'facility', 'counsellor_name', 'partner',\n",
              "       'kit_type', 'gender', 'last_tested',\n",
              "       'consent_for_aviro_to_collect_data', 'consent_to_obtain_test',\n",
              "       'appointment', 'hivss_result_confirmation', 'confirmatory_test_done',\n",
              "       'initiation_handover', 'art_initiation', 'art_number_issued',\n",
              "       'not_initiated_reason', 'hprs_engage', 'hprs_engage_stripped',\n",
              "       'hprs_ithaka_stripped', 'ithaka_engage_time_diff', 'similarity',\n",
              "       'matched_type', 'uid', 'language_response', 'hprs_ithaka',\n",
              "       'results_response', 'dropp_off_timestamp', 'dropp_off_screen',\n",
              "       'reminder_response', 'support_response', 'trust_tool', 'easy_tool',\n",
              "       'share', 'easy_test', 'info_value', 'tips'],\n",
              "      dtype='object')"
            ]
          },
          "metadata": {},
          "execution_count": 18
        }
      ]
    },
    {
      "cell_type": "code",
      "source": [
        "new_data.distribution_date.dtype"
      ],
      "metadata": {
        "id": "_IbYuAic-1Gb",
        "colab": {
          "base_uri": "https://localhost:8080/"
        },
        "outputId": "ebe19ea7-1ae4-4daf-817c-aa05f881072a"
      },
      "execution_count": 19,
      "outputs": [
        {
          "output_type": "execute_result",
          "data": {
            "text/plain": [
              "dtype('<M8[ns]')"
            ]
          },
          "metadata": {},
          "execution_count": 19
        }
      ]
    },
    {
      "cell_type": "code",
      "source": [
        "new_data.head(2)"
      ],
      "metadata": {
        "id": "9WrZljl-FDR4",
        "colab": {
          "base_uri": "https://localhost:8080/",
          "height": 240
        },
        "outputId": "aec61141-cf84-4dae-a82f-642c236fd78f"
      },
      "execution_count": 20,
      "outputs": [
        {
          "output_type": "execute_result",
          "data": {
            "text/plain": [
              "    distribution_date          facility   counsellor_name partner kit_type  \\\n",
              "0 2021-08-29 08:38:34  Ncotshane Clinic  Malindi Dlongolo     HST    insti   \n",
              "1 2021-11-13 14:31:27  Ncotshane Clinic  Malindi Dlongolo     HST    insti   \n",
              "\n",
              "   gender          last_tested consent_for_aviro_to_collect_data  \\\n",
              "0  female                never                               yes   \n",
              "1  female  6_weeks_to_3_months                               yes   \n",
              "\n",
              "  consent_to_obtain_test appointment  ... dropp_off_timestamp  \\\n",
              "0                    yes         yes  ... 2021-10-26 14:39:29   \n",
              "1                    yes          no  ...                 NaT   \n",
              "\n",
              "  dropp_off_screen reminder_response support_response trust_tool easy_tool  \\\n",
              "0         complete               1.0              NaN        5.0       5.0   \n",
              "1              NaN               NaN              NaN        NaN       NaN   \n",
              "\n",
              "  share easy_test info_value  tips  \n",
              "0   5.0       5.0        5.0   NaN  \n",
              "1   NaN       NaN        NaN   NaN  \n",
              "\n",
              "[2 rows x 36 columns]"
            ],
            "text/html": [
              "\n",
              "  <div id=\"df-7d593e1a-395f-48ed-88ca-dcdfef2df5cf\">\n",
              "    <div class=\"colab-df-container\">\n",
              "      <div>\n",
              "<style scoped>\n",
              "    .dataframe tbody tr th:only-of-type {\n",
              "        vertical-align: middle;\n",
              "    }\n",
              "\n",
              "    .dataframe tbody tr th {\n",
              "        vertical-align: top;\n",
              "    }\n",
              "\n",
              "    .dataframe thead th {\n",
              "        text-align: right;\n",
              "    }\n",
              "</style>\n",
              "<table border=\"1\" class=\"dataframe\">\n",
              "  <thead>\n",
              "    <tr style=\"text-align: right;\">\n",
              "      <th></th>\n",
              "      <th>distribution_date</th>\n",
              "      <th>facility</th>\n",
              "      <th>counsellor_name</th>\n",
              "      <th>partner</th>\n",
              "      <th>kit_type</th>\n",
              "      <th>gender</th>\n",
              "      <th>last_tested</th>\n",
              "      <th>consent_for_aviro_to_collect_data</th>\n",
              "      <th>consent_to_obtain_test</th>\n",
              "      <th>appointment</th>\n",
              "      <th>...</th>\n",
              "      <th>dropp_off_timestamp</th>\n",
              "      <th>dropp_off_screen</th>\n",
              "      <th>reminder_response</th>\n",
              "      <th>support_response</th>\n",
              "      <th>trust_tool</th>\n",
              "      <th>easy_tool</th>\n",
              "      <th>share</th>\n",
              "      <th>easy_test</th>\n",
              "      <th>info_value</th>\n",
              "      <th>tips</th>\n",
              "    </tr>\n",
              "  </thead>\n",
              "  <tbody>\n",
              "    <tr>\n",
              "      <th>0</th>\n",
              "      <td>2021-08-29 08:38:34</td>\n",
              "      <td>Ncotshane Clinic</td>\n",
              "      <td>Malindi Dlongolo</td>\n",
              "      <td>HST</td>\n",
              "      <td>insti</td>\n",
              "      <td>female</td>\n",
              "      <td>never</td>\n",
              "      <td>yes</td>\n",
              "      <td>yes</td>\n",
              "      <td>yes</td>\n",
              "      <td>...</td>\n",
              "      <td>2021-10-26 14:39:29</td>\n",
              "      <td>complete</td>\n",
              "      <td>1.0</td>\n",
              "      <td>NaN</td>\n",
              "      <td>5.0</td>\n",
              "      <td>5.0</td>\n",
              "      <td>5.0</td>\n",
              "      <td>5.0</td>\n",
              "      <td>5.0</td>\n",
              "      <td>NaN</td>\n",
              "    </tr>\n",
              "    <tr>\n",
              "      <th>1</th>\n",
              "      <td>2021-11-13 14:31:27</td>\n",
              "      <td>Ncotshane Clinic</td>\n",
              "      <td>Malindi Dlongolo</td>\n",
              "      <td>HST</td>\n",
              "      <td>insti</td>\n",
              "      <td>female</td>\n",
              "      <td>6_weeks_to_3_months</td>\n",
              "      <td>yes</td>\n",
              "      <td>yes</td>\n",
              "      <td>no</td>\n",
              "      <td>...</td>\n",
              "      <td>NaT</td>\n",
              "      <td>NaN</td>\n",
              "      <td>NaN</td>\n",
              "      <td>NaN</td>\n",
              "      <td>NaN</td>\n",
              "      <td>NaN</td>\n",
              "      <td>NaN</td>\n",
              "      <td>NaN</td>\n",
              "      <td>NaN</td>\n",
              "      <td>NaN</td>\n",
              "    </tr>\n",
              "  </tbody>\n",
              "</table>\n",
              "<p>2 rows × 36 columns</p>\n",
              "</div>\n",
              "      <button class=\"colab-df-convert\" onclick=\"convertToInteractive('df-7d593e1a-395f-48ed-88ca-dcdfef2df5cf')\"\n",
              "              title=\"Convert this dataframe to an interactive table.\"\n",
              "              style=\"display:none;\">\n",
              "        \n",
              "  <svg xmlns=\"http://www.w3.org/2000/svg\" height=\"24px\"viewBox=\"0 0 24 24\"\n",
              "       width=\"24px\">\n",
              "    <path d=\"M0 0h24v24H0V0z\" fill=\"none\"/>\n",
              "    <path d=\"M18.56 5.44l.94 2.06.94-2.06 2.06-.94-2.06-.94-.94-2.06-.94 2.06-2.06.94zm-11 1L8.5 8.5l.94-2.06 2.06-.94-2.06-.94L8.5 2.5l-.94 2.06-2.06.94zm10 10l.94 2.06.94-2.06 2.06-.94-2.06-.94-.94-2.06-.94 2.06-2.06.94z\"/><path d=\"M17.41 7.96l-1.37-1.37c-.4-.4-.92-.59-1.43-.59-.52 0-1.04.2-1.43.59L10.3 9.45l-7.72 7.72c-.78.78-.78 2.05 0 2.83L4 21.41c.39.39.9.59 1.41.59.51 0 1.02-.2 1.41-.59l7.78-7.78 2.81-2.81c.8-.78.8-2.07 0-2.86zM5.41 20L4 18.59l7.72-7.72 1.47 1.35L5.41 20z\"/>\n",
              "  </svg>\n",
              "      </button>\n",
              "      \n",
              "  <style>\n",
              "    .colab-df-container {\n",
              "      display:flex;\n",
              "      flex-wrap:wrap;\n",
              "      gap: 12px;\n",
              "    }\n",
              "\n",
              "    .colab-df-convert {\n",
              "      background-color: #E8F0FE;\n",
              "      border: none;\n",
              "      border-radius: 50%;\n",
              "      cursor: pointer;\n",
              "      display: none;\n",
              "      fill: #1967D2;\n",
              "      height: 32px;\n",
              "      padding: 0 0 0 0;\n",
              "      width: 32px;\n",
              "    }\n",
              "\n",
              "    .colab-df-convert:hover {\n",
              "      background-color: #E2EBFA;\n",
              "      box-shadow: 0px 1px 2px rgba(60, 64, 67, 0.3), 0px 1px 3px 1px rgba(60, 64, 67, 0.15);\n",
              "      fill: #174EA6;\n",
              "    }\n",
              "\n",
              "    [theme=dark] .colab-df-convert {\n",
              "      background-color: #3B4455;\n",
              "      fill: #D2E3FC;\n",
              "    }\n",
              "\n",
              "    [theme=dark] .colab-df-convert:hover {\n",
              "      background-color: #434B5C;\n",
              "      box-shadow: 0px 1px 3px 1px rgba(0, 0, 0, 0.15);\n",
              "      filter: drop-shadow(0px 1px 2px rgba(0, 0, 0, 0.3));\n",
              "      fill: #FFFFFF;\n",
              "    }\n",
              "  </style>\n",
              "\n",
              "      <script>\n",
              "        const buttonEl =\n",
              "          document.querySelector('#df-7d593e1a-395f-48ed-88ca-dcdfef2df5cf button.colab-df-convert');\n",
              "        buttonEl.style.display =\n",
              "          google.colab.kernel.accessAllowed ? 'block' : 'none';\n",
              "\n",
              "        async function convertToInteractive(key) {\n",
              "          const element = document.querySelector('#df-7d593e1a-395f-48ed-88ca-dcdfef2df5cf');\n",
              "          const dataTable =\n",
              "            await google.colab.kernel.invokeFunction('convertToInteractive',\n",
              "                                                     [key], {});\n",
              "          if (!dataTable) return;\n",
              "\n",
              "          const docLinkHtml = 'Like what you see? Visit the ' +\n",
              "            '<a target=\"_blank\" href=https://colab.research.google.com/notebooks/data_table.ipynb>data table notebook</a>'\n",
              "            + ' to learn more about interactive tables.';\n",
              "          element.innerHTML = '';\n",
              "          dataTable['output_type'] = 'display_data';\n",
              "          await google.colab.output.renderOutput(dataTable, element);\n",
              "          const docLink = document.createElement('div');\n",
              "          docLink.innerHTML = docLinkHtml;\n",
              "          element.appendChild(docLink);\n",
              "        }\n",
              "      </script>\n",
              "    </div>\n",
              "  </div>\n",
              "  "
            ]
          },
          "metadata": {},
          "execution_count": 20
        }
      ]
    },
    {
      "cell_type": "code",
      "source": [
        ""
      ],
      "metadata": {
        "id": "mVpJa776FNsa"
      },
      "execution_count": 20,
      "outputs": []
    },
    {
      "cell_type": "markdown",
      "source": [
        "# EXPLORATORY DATA ANALYSIS"
      ],
      "metadata": {
        "id": "GHOaTRTnLHv3"
      }
    },
    {
      "cell_type": "code",
      "source": [
        "new_data.describe()"
      ],
      "metadata": {
        "id": "oKR0YH2PLOwb",
        "colab": {
          "base_uri": "https://localhost:8080/",
          "height": 364
        },
        "outputId": "67530f93-88c9-4a9d-8495-de7f01bf05f7"
      },
      "execution_count": 21,
      "outputs": [
        {
          "output_type": "execute_result",
          "data": {
            "text/plain": [
              "       ithaka_engage_time_diff    similarity  reminder_response  \\\n",
              "count             19138.000000  24491.000000             5506.0   \n",
              "mean                 -9.121068      0.767455                1.0   \n",
              "std                  48.279370      0.409679                0.0   \n",
              "min                -658.000000      0.000000                1.0   \n",
              "25%                  -4.000000      0.777778                1.0   \n",
              "50%                   0.000000      1.000000                1.0   \n",
              "75%                   0.000000      1.000000                1.0   \n",
              "max                 349.000000      1.000000                1.0   \n",
              "\n",
              "       support_response    trust_tool     easy_tool         share  \\\n",
              "count             379.0  18659.000000  18679.000000  18591.000000   \n",
              "mean                1.0      4.842114      4.797366      4.846216   \n",
              "std                 0.0      0.531305      0.603734      0.533913   \n",
              "min                 1.0      1.000000      1.000000      1.000000   \n",
              "25%                 1.0      5.000000      5.000000      5.000000   \n",
              "50%                 1.0      5.000000      5.000000      5.000000   \n",
              "75%                 1.0      5.000000      5.000000      5.000000   \n",
              "max                 1.0      5.000000      5.000000      5.000000   \n",
              "\n",
              "          easy_test    info_value  \n",
              "count  18626.000000  18627.000000  \n",
              "mean       4.814721      4.848177  \n",
              "std        0.568979      0.519906  \n",
              "min        1.000000      1.000000  \n",
              "25%        5.000000      5.000000  \n",
              "50%        5.000000      5.000000  \n",
              "75%        5.000000      5.000000  \n",
              "max        5.000000      5.000000  "
            ],
            "text/html": [
              "\n",
              "  <div id=\"df-1d46c7b8-bc32-4fb3-906e-a954e20f9ba8\">\n",
              "    <div class=\"colab-df-container\">\n",
              "      <div>\n",
              "<style scoped>\n",
              "    .dataframe tbody tr th:only-of-type {\n",
              "        vertical-align: middle;\n",
              "    }\n",
              "\n",
              "    .dataframe tbody tr th {\n",
              "        vertical-align: top;\n",
              "    }\n",
              "\n",
              "    .dataframe thead th {\n",
              "        text-align: right;\n",
              "    }\n",
              "</style>\n",
              "<table border=\"1\" class=\"dataframe\">\n",
              "  <thead>\n",
              "    <tr style=\"text-align: right;\">\n",
              "      <th></th>\n",
              "      <th>ithaka_engage_time_diff</th>\n",
              "      <th>similarity</th>\n",
              "      <th>reminder_response</th>\n",
              "      <th>support_response</th>\n",
              "      <th>trust_tool</th>\n",
              "      <th>easy_tool</th>\n",
              "      <th>share</th>\n",
              "      <th>easy_test</th>\n",
              "      <th>info_value</th>\n",
              "    </tr>\n",
              "  </thead>\n",
              "  <tbody>\n",
              "    <tr>\n",
              "      <th>count</th>\n",
              "      <td>19138.000000</td>\n",
              "      <td>24491.000000</td>\n",
              "      <td>5506.0</td>\n",
              "      <td>379.0</td>\n",
              "      <td>18659.000000</td>\n",
              "      <td>18679.000000</td>\n",
              "      <td>18591.000000</td>\n",
              "      <td>18626.000000</td>\n",
              "      <td>18627.000000</td>\n",
              "    </tr>\n",
              "    <tr>\n",
              "      <th>mean</th>\n",
              "      <td>-9.121068</td>\n",
              "      <td>0.767455</td>\n",
              "      <td>1.0</td>\n",
              "      <td>1.0</td>\n",
              "      <td>4.842114</td>\n",
              "      <td>4.797366</td>\n",
              "      <td>4.846216</td>\n",
              "      <td>4.814721</td>\n",
              "      <td>4.848177</td>\n",
              "    </tr>\n",
              "    <tr>\n",
              "      <th>std</th>\n",
              "      <td>48.279370</td>\n",
              "      <td>0.409679</td>\n",
              "      <td>0.0</td>\n",
              "      <td>0.0</td>\n",
              "      <td>0.531305</td>\n",
              "      <td>0.603734</td>\n",
              "      <td>0.533913</td>\n",
              "      <td>0.568979</td>\n",
              "      <td>0.519906</td>\n",
              "    </tr>\n",
              "    <tr>\n",
              "      <th>min</th>\n",
              "      <td>-658.000000</td>\n",
              "      <td>0.000000</td>\n",
              "      <td>1.0</td>\n",
              "      <td>1.0</td>\n",
              "      <td>1.000000</td>\n",
              "      <td>1.000000</td>\n",
              "      <td>1.000000</td>\n",
              "      <td>1.000000</td>\n",
              "      <td>1.000000</td>\n",
              "    </tr>\n",
              "    <tr>\n",
              "      <th>25%</th>\n",
              "      <td>-4.000000</td>\n",
              "      <td>0.777778</td>\n",
              "      <td>1.0</td>\n",
              "      <td>1.0</td>\n",
              "      <td>5.000000</td>\n",
              "      <td>5.000000</td>\n",
              "      <td>5.000000</td>\n",
              "      <td>5.000000</td>\n",
              "      <td>5.000000</td>\n",
              "    </tr>\n",
              "    <tr>\n",
              "      <th>50%</th>\n",
              "      <td>0.000000</td>\n",
              "      <td>1.000000</td>\n",
              "      <td>1.0</td>\n",
              "      <td>1.0</td>\n",
              "      <td>5.000000</td>\n",
              "      <td>5.000000</td>\n",
              "      <td>5.000000</td>\n",
              "      <td>5.000000</td>\n",
              "      <td>5.000000</td>\n",
              "    </tr>\n",
              "    <tr>\n",
              "      <th>75%</th>\n",
              "      <td>0.000000</td>\n",
              "      <td>1.000000</td>\n",
              "      <td>1.0</td>\n",
              "      <td>1.0</td>\n",
              "      <td>5.000000</td>\n",
              "      <td>5.000000</td>\n",
              "      <td>5.000000</td>\n",
              "      <td>5.000000</td>\n",
              "      <td>5.000000</td>\n",
              "    </tr>\n",
              "    <tr>\n",
              "      <th>max</th>\n",
              "      <td>349.000000</td>\n",
              "      <td>1.000000</td>\n",
              "      <td>1.0</td>\n",
              "      <td>1.0</td>\n",
              "      <td>5.000000</td>\n",
              "      <td>5.000000</td>\n",
              "      <td>5.000000</td>\n",
              "      <td>5.000000</td>\n",
              "      <td>5.000000</td>\n",
              "    </tr>\n",
              "  </tbody>\n",
              "</table>\n",
              "</div>\n",
              "      <button class=\"colab-df-convert\" onclick=\"convertToInteractive('df-1d46c7b8-bc32-4fb3-906e-a954e20f9ba8')\"\n",
              "              title=\"Convert this dataframe to an interactive table.\"\n",
              "              style=\"display:none;\">\n",
              "        \n",
              "  <svg xmlns=\"http://www.w3.org/2000/svg\" height=\"24px\"viewBox=\"0 0 24 24\"\n",
              "       width=\"24px\">\n",
              "    <path d=\"M0 0h24v24H0V0z\" fill=\"none\"/>\n",
              "    <path d=\"M18.56 5.44l.94 2.06.94-2.06 2.06-.94-2.06-.94-.94-2.06-.94 2.06-2.06.94zm-11 1L8.5 8.5l.94-2.06 2.06-.94-2.06-.94L8.5 2.5l-.94 2.06-2.06.94zm10 10l.94 2.06.94-2.06 2.06-.94-2.06-.94-.94-2.06-.94 2.06-2.06.94z\"/><path d=\"M17.41 7.96l-1.37-1.37c-.4-.4-.92-.59-1.43-.59-.52 0-1.04.2-1.43.59L10.3 9.45l-7.72 7.72c-.78.78-.78 2.05 0 2.83L4 21.41c.39.39.9.59 1.41.59.51 0 1.02-.2 1.41-.59l7.78-7.78 2.81-2.81c.8-.78.8-2.07 0-2.86zM5.41 20L4 18.59l7.72-7.72 1.47 1.35L5.41 20z\"/>\n",
              "  </svg>\n",
              "      </button>\n",
              "      \n",
              "  <style>\n",
              "    .colab-df-container {\n",
              "      display:flex;\n",
              "      flex-wrap:wrap;\n",
              "      gap: 12px;\n",
              "    }\n",
              "\n",
              "    .colab-df-convert {\n",
              "      background-color: #E8F0FE;\n",
              "      border: none;\n",
              "      border-radius: 50%;\n",
              "      cursor: pointer;\n",
              "      display: none;\n",
              "      fill: #1967D2;\n",
              "      height: 32px;\n",
              "      padding: 0 0 0 0;\n",
              "      width: 32px;\n",
              "    }\n",
              "\n",
              "    .colab-df-convert:hover {\n",
              "      background-color: #E2EBFA;\n",
              "      box-shadow: 0px 1px 2px rgba(60, 64, 67, 0.3), 0px 1px 3px 1px rgba(60, 64, 67, 0.15);\n",
              "      fill: #174EA6;\n",
              "    }\n",
              "\n",
              "    [theme=dark] .colab-df-convert {\n",
              "      background-color: #3B4455;\n",
              "      fill: #D2E3FC;\n",
              "    }\n",
              "\n",
              "    [theme=dark] .colab-df-convert:hover {\n",
              "      background-color: #434B5C;\n",
              "      box-shadow: 0px 1px 3px 1px rgba(0, 0, 0, 0.15);\n",
              "      filter: drop-shadow(0px 1px 2px rgba(0, 0, 0, 0.3));\n",
              "      fill: #FFFFFF;\n",
              "    }\n",
              "  </style>\n",
              "\n",
              "      <script>\n",
              "        const buttonEl =\n",
              "          document.querySelector('#df-1d46c7b8-bc32-4fb3-906e-a954e20f9ba8 button.colab-df-convert');\n",
              "        buttonEl.style.display =\n",
              "          google.colab.kernel.accessAllowed ? 'block' : 'none';\n",
              "\n",
              "        async function convertToInteractive(key) {\n",
              "          const element = document.querySelector('#df-1d46c7b8-bc32-4fb3-906e-a954e20f9ba8');\n",
              "          const dataTable =\n",
              "            await google.colab.kernel.invokeFunction('convertToInteractive',\n",
              "                                                     [key], {});\n",
              "          if (!dataTable) return;\n",
              "\n",
              "          const docLinkHtml = 'Like what you see? Visit the ' +\n",
              "            '<a target=\"_blank\" href=https://colab.research.google.com/notebooks/data_table.ipynb>data table notebook</a>'\n",
              "            + ' to learn more about interactive tables.';\n",
              "          element.innerHTML = '';\n",
              "          dataTable['output_type'] = 'display_data';\n",
              "          await google.colab.output.renderOutput(dataTable, element);\n",
              "          const docLink = document.createElement('div');\n",
              "          docLink.innerHTML = docLinkHtml;\n",
              "          element.appendChild(docLink);\n",
              "        }\n",
              "      </script>\n",
              "    </div>\n",
              "  </div>\n",
              "  "
            ]
          },
          "metadata": {},
          "execution_count": 21
        }
      ]
    },
    {
      "cell_type": "code",
      "source": [
        "new_data.shape"
      ],
      "metadata": {
        "id": "AFOm4dC2LUoX",
        "colab": {
          "base_uri": "https://localhost:8080/"
        },
        "outputId": "9f3eb226-1728-49e2-c24a-810529efc905"
      },
      "execution_count": 22,
      "outputs": [
        {
          "output_type": "execute_result",
          "data": {
            "text/plain": [
              "(24491, 36)"
            ]
          },
          "metadata": {},
          "execution_count": 22
        }
      ]
    },
    {
      "cell_type": "code",
      "source": [
        "new_data.info()"
      ],
      "metadata": {
        "id": "SP3PDqszLtvD",
        "colab": {
          "base_uri": "https://localhost:8080/"
        },
        "outputId": "fc42b842-b585-466a-e6ee-33cb035113e0"
      },
      "execution_count": 23,
      "outputs": [
        {
          "output_type": "stream",
          "name": "stdout",
          "text": [
            "<class 'pandas.core.frame.DataFrame'>\n",
            "RangeIndex: 24491 entries, 0 to 24490\n",
            "Data columns (total 36 columns):\n",
            " #   Column                             Non-Null Count  Dtype         \n",
            "---  ------                             --------------  -----         \n",
            " 0   distribution_date                  22590 non-null  datetime64[ns]\n",
            " 1   facility                           22528 non-null  object        \n",
            " 2   counsellor_name                    22590 non-null  object        \n",
            " 3   partner                            24491 non-null  object        \n",
            " 4   kit_type                           18767 non-null  object        \n",
            " 5   gender                             22589 non-null  object        \n",
            " 6   last_tested                        22589 non-null  object        \n",
            " 7   consent_for_aviro_to_collect_data  22590 non-null  object        \n",
            " 8   consent_to_obtain_test             22590 non-null  object        \n",
            " 9   appointment                        20846 non-null  object        \n",
            " 10  hivss_result_confirmation          15751 non-null  object        \n",
            " 11  confirmatory_test_done             1261 non-null   object        \n",
            " 12  initiation_handover                1248 non-null   object        \n",
            " 13  art_initiation                     1239 non-null   object        \n",
            " 14  art_number_issued                  1207 non-null   object        \n",
            " 15  not_initiated_reason               32 non-null     object        \n",
            " 16  hprs_engage                        22589 non-null  object        \n",
            " 17  hprs_engage_stripped               22589 non-null  object        \n",
            " 18  hprs_ithaka_stripped               21039 non-null  object        \n",
            " 19  ithaka_engage_time_diff            19138 non-null  float64       \n",
            " 20  similarity                         24491 non-null  float64       \n",
            " 21  matched_type                       24491 non-null  object        \n",
            " 22  uid                                21039 non-null  object        \n",
            " 23  language_response                  21039 non-null  object        \n",
            " 24  hprs_ithaka                        21039 non-null  object        \n",
            " 25  results_response                   21029 non-null  object        \n",
            " 26  dropp_off_timestamp                21039 non-null  datetime64[ns]\n",
            " 27  dropp_off_screen                   21029 non-null  object        \n",
            " 28  reminder_response                  5506 non-null   float64       \n",
            " 29  support_response                   379 non-null    float64       \n",
            " 30  trust_tool                         18659 non-null  float64       \n",
            " 31  easy_tool                          18679 non-null  float64       \n",
            " 32  share                              18591 non-null  float64       \n",
            " 33  easy_test                          18626 non-null  float64       \n",
            " 34  info_value                         18627 non-null  float64       \n",
            " 35  tips                               3029 non-null   object        \n",
            "dtypes: datetime64[ns](2), float64(9), object(25)\n",
            "memory usage: 6.7+ MB\n"
          ]
        }
      ]
    },
    {
      "cell_type": "code",
      "source": [
        "# check for missing values"
      ],
      "metadata": {
        "id": "W3O1hF5mNddq"
      },
      "execution_count": 24,
      "outputs": []
    },
    {
      "cell_type": "code",
      "source": [
        "new_data.isnull().sum()"
      ],
      "metadata": {
        "id": "3ebKRAOlN3rZ",
        "colab": {
          "base_uri": "https://localhost:8080/"
        },
        "outputId": "5f25de7c-40f1-4817-c387-29eb673eb85a"
      },
      "execution_count": 25,
      "outputs": [
        {
          "output_type": "execute_result",
          "data": {
            "text/plain": [
              "distribution_date                     1901\n",
              "facility                              1963\n",
              "counsellor_name                       1901\n",
              "partner                                  0\n",
              "kit_type                              5724\n",
              "gender                                1902\n",
              "last_tested                           1902\n",
              "consent_for_aviro_to_collect_data     1901\n",
              "consent_to_obtain_test                1901\n",
              "appointment                           3645\n",
              "hivss_result_confirmation             8740\n",
              "confirmatory_test_done               23230\n",
              "initiation_handover                  23243\n",
              "art_initiation                       23252\n",
              "art_number_issued                    23284\n",
              "not_initiated_reason                 24459\n",
              "hprs_engage                           1902\n",
              "hprs_engage_stripped                  1902\n",
              "hprs_ithaka_stripped                  3452\n",
              "ithaka_engage_time_diff               5353\n",
              "similarity                               0\n",
              "matched_type                             0\n",
              "uid                                   3452\n",
              "language_response                     3452\n",
              "hprs_ithaka                           3452\n",
              "results_response                      3462\n",
              "dropp_off_timestamp                   3452\n",
              "dropp_off_screen                      3462\n",
              "reminder_response                    18985\n",
              "support_response                     24112\n",
              "trust_tool                            5832\n",
              "easy_tool                             5812\n",
              "share                                 5900\n",
              "easy_test                             5865\n",
              "info_value                            5864\n",
              "tips                                 21462\n",
              "dtype: int64"
            ]
          },
          "metadata": {},
          "execution_count": 25
        }
      ]
    },
    {
      "cell_type": "code",
      "source": [
        "# MISSING VALUES"
      ],
      "metadata": {
        "id": "NcwH5OIlN-8S"
      },
      "execution_count": 26,
      "outputs": []
    },
    {
      "cell_type": "code",
      "source": [
        "# Replacing NULL values in Numerical columns with median"
      ],
      "metadata": {
        "id": "CD93cbu1QGt4"
      },
      "execution_count": 27,
      "outputs": []
    },
    {
      "cell_type": "code",
      "source": [
        "new_data.keys()"
      ],
      "metadata": {
        "id": "1dM06_U-QQ4s",
        "colab": {
          "base_uri": "https://localhost:8080/"
        },
        "outputId": "1f8b3e86-02dc-433a-bdd5-3117ff6416ba"
      },
      "execution_count": 28,
      "outputs": [
        {
          "output_type": "execute_result",
          "data": {
            "text/plain": [
              "Index(['distribution_date', 'facility', 'counsellor_name', 'partner',\n",
              "       'kit_type', 'gender', 'last_tested',\n",
              "       'consent_for_aviro_to_collect_data', 'consent_to_obtain_test',\n",
              "       'appointment', 'hivss_result_confirmation', 'confirmatory_test_done',\n",
              "       'initiation_handover', 'art_initiation', 'art_number_issued',\n",
              "       'not_initiated_reason', 'hprs_engage', 'hprs_engage_stripped',\n",
              "       'hprs_ithaka_stripped', 'ithaka_engage_time_diff', 'similarity',\n",
              "       'matched_type', 'uid', 'language_response', 'hprs_ithaka',\n",
              "       'results_response', 'dropp_off_timestamp', 'dropp_off_screen',\n",
              "       'reminder_response', 'support_response', 'trust_tool', 'easy_tool',\n",
              "       'share', 'easy_test', 'info_value', 'tips'],\n",
              "      dtype='object')"
            ]
          },
          "metadata": {},
          "execution_count": 28
        }
      ]
    },
    {
      "cell_type": "code",
      "source": [
        "# Calculating Median"
      ],
      "metadata": {
        "id": "5tZBG82bTwQS"
      },
      "execution_count": 29,
      "outputs": []
    },
    {
      "cell_type": "code",
      "source": [
        "info = new_data['info_value'].median()\n",
        "easy_test = new_data['easy_test'].median()\n",
        "share = new_data['share'].median()\n",
        "res_rem = new_data['reminder_response'].median()\n",
        "support = new_data['support_response'].median()\n",
        "trust = new_data['trust_tool'].median()\n",
        "easy_tool = new_data['easy_tool'].median()"
      ],
      "metadata": {
        "id": "bljDbs_5QayX"
      },
      "execution_count": 30,
      "outputs": []
    },
    {
      "cell_type": "code",
      "source": [
        "easy_tool = new_data['easy_tool'].median()"
      ],
      "metadata": {
        "id": "7etWSnIvYoxL"
      },
      "execution_count": 31,
      "outputs": []
    },
    {
      "cell_type": "code",
      "source": [
        "#Replacing nuns"
      ],
      "metadata": {
        "id": "LJbIDAV0Qa2Q"
      },
      "execution_count": 32,
      "outputs": []
    },
    {
      "cell_type": "code",
      "source": [
        "import numpy as np\n"
      ],
      "metadata": {
        "id": "rMK-yVGUUN77"
      },
      "execution_count": 33,
      "outputs": []
    },
    {
      "cell_type": "code",
      "source": [
        "new_data['reminder_response'].replace(np.nan,res_rem,inplace=True)\n",
        "new_data['info_value'].replace(np.nan,info,inplace=True)\n",
        "new_data['easy_test'].replace(np.nan,easy_test,inplace=True)\n",
        "new_data['trust_tool'].replace(np.nan,trust,inplace=True)\n",
        "new_data['support_response'].replace(np.nan,support,inplace=True)\n",
        "new_data['share'].replace(np.nan,share,inplace=True)\n",
        "new_data['easy_tool'].replace(np.nan,easy_tool,inplace=True)\n"
      ],
      "metadata": {
        "id": "sjG93uN4Qa5g"
      },
      "execution_count": 34,
      "outputs": []
    },
    {
      "cell_type": "code",
      "source": [
        "# Replacing categorical values with mode"
      ],
      "metadata": {
        "id": "5ioj1_8cQa8z"
      },
      "execution_count": 35,
      "outputs": []
    },
    {
      "cell_type": "code",
      "source": [
        "dist_date = new_data['distribution_date'].mode().values[0]\n",
        "facility_mode = new_data['facility'].mode().values[0]\n",
        "counsellor_name = new_data['counsellor_name'].mode().values[0]\n",
        "partner = new_data['partner'].mode().values[0]\n",
        "gender = new_data['gender'].mode().values[0]\n",
        "appointment  = new_data['appointment'].mode().values[0]\n",
        "art_initiation = new_data['art_initiation'].mode().values[0]\n",
        "not_initiated_reason = new_data['not_initiated_reason'].mode().values[0]\n",
        "language_response = new_data['language_response'].mode().values[0]"
      ],
      "metadata": {
        "id": "4yneI177Qa_5"
      },
      "execution_count": 36,
      "outputs": []
    },
    {
      "cell_type": "code",
      "source": [
        "new_data['distribution_date']=new_data['distribution_date'].replace(np.nan,dist_date)\n",
        "new_data['facility']=new_data['facility'].replace(np.nan,facility_mode)\n",
        "new_data['counsellor_name']=new_data['counsellor_name'].replace(np.nan,counsellor_name)\n",
        "new_data['partner']=new_data['partner'].replace(np.nan,partner)\n",
        "new_data['gender']=new_data['gender'].replace(np.nan,gender)\n",
        "new_data['appointment']=new_data['appointment'].replace(np.nan,appointment)\n",
        "new_data['art_initiation']=new_data['art_initiation'].replace(np.nan,art_initiation)\n",
        "new_data['not_initiated_reason']=new_data['not_initiated_reason'].replace(np.nan,not_initiated_reason)\n",
        "new_data['language_response']=new_data['language_response'].replace(np.nan,language_response )\n"
      ],
      "metadata": {
        "id": "D48zrBo2QbCs"
      },
      "execution_count": 37,
      "outputs": []
    },
    {
      "cell_type": "code",
      "source": [
        "import string"
      ],
      "metadata": {
        "id": "eXbqfYG3vFQt"
      },
      "execution_count": 38,
      "outputs": []
    },
    {
      "cell_type": "code",
      "source": [
        "new_data['hprs_engage_stripped']=new_data['hprs_engage_stripped'].replace(\" \"\" \",\" \")\n",
        "new_data['hprs_engage_stripped']=new_data['hprs_engage_stripped'].replace(\",\",\"\")\n",
        "new_data['hprs_engage_stripped'] = new_data['hprs_engage_stripped'].replace('', '', inplace=True)"
      ],
      "metadata": {
        "id": "RGBsYQTguAZD"
      },
      "execution_count": 39,
      "outputs": []
    },
    {
      "cell_type": "markdown",
      "source": [
        "*italicized text*"
      ],
      "metadata": {
        "id": "d3WUwsNvbXEF"
      }
    },
    {
      "cell_type": "markdown",
      "source": [
        ""
      ],
      "metadata": {
        "id": "lkvTbVrvbWgL"
      }
    },
    {
      "cell_type": "code",
      "source": [
        "new_data['hprs_engage_stripped'] = pd.to_numeric(new_data['hprs_engage_stripped'])\n",
        "import random\n",
        "new_data['hprs_engage_stripped'] = new_data['hprs_engage_stripped'].apply(lambda v: v if  not np.isnan(v) else random.randint(1,100000))\n",
        "new_data['hprs_engage_stripped'] = new_data['hprs_engage_stripped'].astype(int)"
      ],
      "metadata": {
        "id": "m1N9_tnftIBn"
      },
      "execution_count": 40,
      "outputs": []
    },
    {
      "cell_type": "code",
      "source": [
        ""
      ],
      "metadata": {
        "id": "pOy7NOsHtYOT"
      },
      "execution_count": 40,
      "outputs": []
    },
    {
      "cell_type": "code",
      "source": [
        "new_data.corr()"
      ],
      "metadata": {
        "id": "G_8hTDgbi7Ax",
        "colab": {
          "base_uri": "https://localhost:8080/",
          "height": 427
        },
        "outputId": "ecb91ce2-f220-4b58-e714-9861756b08b7"
      },
      "execution_count": 41,
      "outputs": [
        {
          "output_type": "execute_result",
          "data": {
            "text/plain": [
              "                         hprs_engage_stripped  ithaka_engage_time_diff  \\\n",
              "hprs_engage_stripped                 1.000000                 0.002794   \n",
              "ithaka_engage_time_diff              0.002794                 1.000000   \n",
              "similarity                           0.003276                -0.025355   \n",
              "reminder_response                         NaN                      NaN   \n",
              "support_response                          NaN                      NaN   \n",
              "trust_tool                           0.005017                -0.018160   \n",
              "easy_tool                           -0.000196                -0.035938   \n",
              "share                                0.002120                -0.022864   \n",
              "easy_test                           -0.001487                -0.024747   \n",
              "info_value                          -0.001168                -0.026539   \n",
              "\n",
              "                         similarity  reminder_response  support_response  \\\n",
              "hprs_engage_stripped       0.003276                NaN               NaN   \n",
              "ithaka_engage_time_diff   -0.025355                NaN               NaN   \n",
              "similarity                 1.000000                NaN               NaN   \n",
              "reminder_response               NaN                NaN               NaN   \n",
              "support_response                NaN                NaN               NaN   \n",
              "trust_tool                -0.072690                NaN               NaN   \n",
              "easy_tool                 -0.091111                NaN               NaN   \n",
              "share                     -0.068884                NaN               NaN   \n",
              "easy_test                 -0.086566                NaN               NaN   \n",
              "info_value                -0.071226                NaN               NaN   \n",
              "\n",
              "                         trust_tool  easy_tool     share  easy_test  \\\n",
              "hprs_engage_stripped       0.005017  -0.000196  0.002120  -0.001487   \n",
              "ithaka_engage_time_diff   -0.018160  -0.035938 -0.022864  -0.024747   \n",
              "similarity                -0.072690  -0.091111 -0.068884  -0.086566   \n",
              "reminder_response               NaN        NaN       NaN        NaN   \n",
              "support_response                NaN        NaN       NaN        NaN   \n",
              "trust_tool                 1.000000   0.686294  0.825032   0.731665   \n",
              "easy_tool                  0.686294   1.000000  0.667203   0.830949   \n",
              "share                      0.825032   0.667203  1.000000   0.710637   \n",
              "easy_test                  0.731665   0.830949  0.710637   1.000000   \n",
              "info_value                 0.830229   0.738404  0.796233   0.788784   \n",
              "\n",
              "                         info_value  \n",
              "hprs_engage_stripped      -0.001168  \n",
              "ithaka_engage_time_diff   -0.026539  \n",
              "similarity                -0.071226  \n",
              "reminder_response               NaN  \n",
              "support_response                NaN  \n",
              "trust_tool                 0.830229  \n",
              "easy_tool                  0.738404  \n",
              "share                      0.796233  \n",
              "easy_test                  0.788784  \n",
              "info_value                 1.000000  "
            ],
            "text/html": [
              "\n",
              "  <div id=\"df-0d7beab9-2cb4-47fc-9c46-67e061b388cb\">\n",
              "    <div class=\"colab-df-container\">\n",
              "      <div>\n",
              "<style scoped>\n",
              "    .dataframe tbody tr th:only-of-type {\n",
              "        vertical-align: middle;\n",
              "    }\n",
              "\n",
              "    .dataframe tbody tr th {\n",
              "        vertical-align: top;\n",
              "    }\n",
              "\n",
              "    .dataframe thead th {\n",
              "        text-align: right;\n",
              "    }\n",
              "</style>\n",
              "<table border=\"1\" class=\"dataframe\">\n",
              "  <thead>\n",
              "    <tr style=\"text-align: right;\">\n",
              "      <th></th>\n",
              "      <th>hprs_engage_stripped</th>\n",
              "      <th>ithaka_engage_time_diff</th>\n",
              "      <th>similarity</th>\n",
              "      <th>reminder_response</th>\n",
              "      <th>support_response</th>\n",
              "      <th>trust_tool</th>\n",
              "      <th>easy_tool</th>\n",
              "      <th>share</th>\n",
              "      <th>easy_test</th>\n",
              "      <th>info_value</th>\n",
              "    </tr>\n",
              "  </thead>\n",
              "  <tbody>\n",
              "    <tr>\n",
              "      <th>hprs_engage_stripped</th>\n",
              "      <td>1.000000</td>\n",
              "      <td>0.002794</td>\n",
              "      <td>0.003276</td>\n",
              "      <td>NaN</td>\n",
              "      <td>NaN</td>\n",
              "      <td>0.005017</td>\n",
              "      <td>-0.000196</td>\n",
              "      <td>0.002120</td>\n",
              "      <td>-0.001487</td>\n",
              "      <td>-0.001168</td>\n",
              "    </tr>\n",
              "    <tr>\n",
              "      <th>ithaka_engage_time_diff</th>\n",
              "      <td>0.002794</td>\n",
              "      <td>1.000000</td>\n",
              "      <td>-0.025355</td>\n",
              "      <td>NaN</td>\n",
              "      <td>NaN</td>\n",
              "      <td>-0.018160</td>\n",
              "      <td>-0.035938</td>\n",
              "      <td>-0.022864</td>\n",
              "      <td>-0.024747</td>\n",
              "      <td>-0.026539</td>\n",
              "    </tr>\n",
              "    <tr>\n",
              "      <th>similarity</th>\n",
              "      <td>0.003276</td>\n",
              "      <td>-0.025355</td>\n",
              "      <td>1.000000</td>\n",
              "      <td>NaN</td>\n",
              "      <td>NaN</td>\n",
              "      <td>-0.072690</td>\n",
              "      <td>-0.091111</td>\n",
              "      <td>-0.068884</td>\n",
              "      <td>-0.086566</td>\n",
              "      <td>-0.071226</td>\n",
              "    </tr>\n",
              "    <tr>\n",
              "      <th>reminder_response</th>\n",
              "      <td>NaN</td>\n",
              "      <td>NaN</td>\n",
              "      <td>NaN</td>\n",
              "      <td>NaN</td>\n",
              "      <td>NaN</td>\n",
              "      <td>NaN</td>\n",
              "      <td>NaN</td>\n",
              "      <td>NaN</td>\n",
              "      <td>NaN</td>\n",
              "      <td>NaN</td>\n",
              "    </tr>\n",
              "    <tr>\n",
              "      <th>support_response</th>\n",
              "      <td>NaN</td>\n",
              "      <td>NaN</td>\n",
              "      <td>NaN</td>\n",
              "      <td>NaN</td>\n",
              "      <td>NaN</td>\n",
              "      <td>NaN</td>\n",
              "      <td>NaN</td>\n",
              "      <td>NaN</td>\n",
              "      <td>NaN</td>\n",
              "      <td>NaN</td>\n",
              "    </tr>\n",
              "    <tr>\n",
              "      <th>trust_tool</th>\n",
              "      <td>0.005017</td>\n",
              "      <td>-0.018160</td>\n",
              "      <td>-0.072690</td>\n",
              "      <td>NaN</td>\n",
              "      <td>NaN</td>\n",
              "      <td>1.000000</td>\n",
              "      <td>0.686294</td>\n",
              "      <td>0.825032</td>\n",
              "      <td>0.731665</td>\n",
              "      <td>0.830229</td>\n",
              "    </tr>\n",
              "    <tr>\n",
              "      <th>easy_tool</th>\n",
              "      <td>-0.000196</td>\n",
              "      <td>-0.035938</td>\n",
              "      <td>-0.091111</td>\n",
              "      <td>NaN</td>\n",
              "      <td>NaN</td>\n",
              "      <td>0.686294</td>\n",
              "      <td>1.000000</td>\n",
              "      <td>0.667203</td>\n",
              "      <td>0.830949</td>\n",
              "      <td>0.738404</td>\n",
              "    </tr>\n",
              "    <tr>\n",
              "      <th>share</th>\n",
              "      <td>0.002120</td>\n",
              "      <td>-0.022864</td>\n",
              "      <td>-0.068884</td>\n",
              "      <td>NaN</td>\n",
              "      <td>NaN</td>\n",
              "      <td>0.825032</td>\n",
              "      <td>0.667203</td>\n",
              "      <td>1.000000</td>\n",
              "      <td>0.710637</td>\n",
              "      <td>0.796233</td>\n",
              "    </tr>\n",
              "    <tr>\n",
              "      <th>easy_test</th>\n",
              "      <td>-0.001487</td>\n",
              "      <td>-0.024747</td>\n",
              "      <td>-0.086566</td>\n",
              "      <td>NaN</td>\n",
              "      <td>NaN</td>\n",
              "      <td>0.731665</td>\n",
              "      <td>0.830949</td>\n",
              "      <td>0.710637</td>\n",
              "      <td>1.000000</td>\n",
              "      <td>0.788784</td>\n",
              "    </tr>\n",
              "    <tr>\n",
              "      <th>info_value</th>\n",
              "      <td>-0.001168</td>\n",
              "      <td>-0.026539</td>\n",
              "      <td>-0.071226</td>\n",
              "      <td>NaN</td>\n",
              "      <td>NaN</td>\n",
              "      <td>0.830229</td>\n",
              "      <td>0.738404</td>\n",
              "      <td>0.796233</td>\n",
              "      <td>0.788784</td>\n",
              "      <td>1.000000</td>\n",
              "    </tr>\n",
              "  </tbody>\n",
              "</table>\n",
              "</div>\n",
              "      <button class=\"colab-df-convert\" onclick=\"convertToInteractive('df-0d7beab9-2cb4-47fc-9c46-67e061b388cb')\"\n",
              "              title=\"Convert this dataframe to an interactive table.\"\n",
              "              style=\"display:none;\">\n",
              "        \n",
              "  <svg xmlns=\"http://www.w3.org/2000/svg\" height=\"24px\"viewBox=\"0 0 24 24\"\n",
              "       width=\"24px\">\n",
              "    <path d=\"M0 0h24v24H0V0z\" fill=\"none\"/>\n",
              "    <path d=\"M18.56 5.44l.94 2.06.94-2.06 2.06-.94-2.06-.94-.94-2.06-.94 2.06-2.06.94zm-11 1L8.5 8.5l.94-2.06 2.06-.94-2.06-.94L8.5 2.5l-.94 2.06-2.06.94zm10 10l.94 2.06.94-2.06 2.06-.94-2.06-.94-.94-2.06-.94 2.06-2.06.94z\"/><path d=\"M17.41 7.96l-1.37-1.37c-.4-.4-.92-.59-1.43-.59-.52 0-1.04.2-1.43.59L10.3 9.45l-7.72 7.72c-.78.78-.78 2.05 0 2.83L4 21.41c.39.39.9.59 1.41.59.51 0 1.02-.2 1.41-.59l7.78-7.78 2.81-2.81c.8-.78.8-2.07 0-2.86zM5.41 20L4 18.59l7.72-7.72 1.47 1.35L5.41 20z\"/>\n",
              "  </svg>\n",
              "      </button>\n",
              "      \n",
              "  <style>\n",
              "    .colab-df-container {\n",
              "      display:flex;\n",
              "      flex-wrap:wrap;\n",
              "      gap: 12px;\n",
              "    }\n",
              "\n",
              "    .colab-df-convert {\n",
              "      background-color: #E8F0FE;\n",
              "      border: none;\n",
              "      border-radius: 50%;\n",
              "      cursor: pointer;\n",
              "      display: none;\n",
              "      fill: #1967D2;\n",
              "      height: 32px;\n",
              "      padding: 0 0 0 0;\n",
              "      width: 32px;\n",
              "    }\n",
              "\n",
              "    .colab-df-convert:hover {\n",
              "      background-color: #E2EBFA;\n",
              "      box-shadow: 0px 1px 2px rgba(60, 64, 67, 0.3), 0px 1px 3px 1px rgba(60, 64, 67, 0.15);\n",
              "      fill: #174EA6;\n",
              "    }\n",
              "\n",
              "    [theme=dark] .colab-df-convert {\n",
              "      background-color: #3B4455;\n",
              "      fill: #D2E3FC;\n",
              "    }\n",
              "\n",
              "    [theme=dark] .colab-df-convert:hover {\n",
              "      background-color: #434B5C;\n",
              "      box-shadow: 0px 1px 3px 1px rgba(0, 0, 0, 0.15);\n",
              "      filter: drop-shadow(0px 1px 2px rgba(0, 0, 0, 0.3));\n",
              "      fill: #FFFFFF;\n",
              "    }\n",
              "  </style>\n",
              "\n",
              "      <script>\n",
              "        const buttonEl =\n",
              "          document.querySelector('#df-0d7beab9-2cb4-47fc-9c46-67e061b388cb button.colab-df-convert');\n",
              "        buttonEl.style.display =\n",
              "          google.colab.kernel.accessAllowed ? 'block' : 'none';\n",
              "\n",
              "        async function convertToInteractive(key) {\n",
              "          const element = document.querySelector('#df-0d7beab9-2cb4-47fc-9c46-67e061b388cb');\n",
              "          const dataTable =\n",
              "            await google.colab.kernel.invokeFunction('convertToInteractive',\n",
              "                                                     [key], {});\n",
              "          if (!dataTable) return;\n",
              "\n",
              "          const docLinkHtml = 'Like what you see? Visit the ' +\n",
              "            '<a target=\"_blank\" href=https://colab.research.google.com/notebooks/data_table.ipynb>data table notebook</a>'\n",
              "            + ' to learn more about interactive tables.';\n",
              "          element.innerHTML = '';\n",
              "          dataTable['output_type'] = 'display_data';\n",
              "          await google.colab.output.renderOutput(dataTable, element);\n",
              "          const docLink = document.createElement('div');\n",
              "          docLink.innerHTML = docLinkHtml;\n",
              "          element.appendChild(docLink);\n",
              "        }\n",
              "      </script>\n",
              "    </div>\n",
              "  </div>\n",
              "  "
            ]
          },
          "metadata": {},
          "execution_count": 41
        }
      ]
    },
    {
      "cell_type": "code",
      "source": [
        "new_data[\"distribution_date\"] = pd.to_datetime(new_data.distribution_date, format=\"%m/%d/%Y\")\n",
        "new_data[\"dropp_off_timestamp\"] = pd.to_datetime(new_data.dropp_off_timestamp, format=\"%m/%d/%Y\")"
      ],
      "metadata": {
        "id": "aztbGDaKPPmD"
      },
      "execution_count": 42,
      "outputs": []
    },
    {
      "cell_type": "code",
      "source": [
        ""
      ],
      "metadata": {
        "id": "nCXVDnDryRmI"
      },
      "execution_count": 42,
      "outputs": []
    },
    {
      "cell_type": "code",
      "source": [
        "# Use 'weekly' for weekly retention and 'monthly' for monthly retention\n",
        "retention_data = CalculateRetention(new_data, 'monthly')"
      ],
      "metadata": {
        "id": "iNHAePaV1PUZ"
      },
      "execution_count": 43,
      "outputs": []
    },
    {
      "cell_type": "code",
      "source": [
        "#z = retention_data.get_raw_retention()\n",
        "#z.fillna('')  # Just to make it look neater"
      ],
      "metadata": {
        "id": "-eeia4F64HaY"
      },
      "execution_count": 44,
      "outputs": []
    },
    {
      "cell_type": "code",
      "source": [
        "#retention_data.plot_retention('raw')"
      ],
      "metadata": {
        "id": "6phZDjNn2P0w"
      },
      "execution_count": 45,
      "outputs": []
    },
    {
      "cell_type": "code",
      "source": [
        "sns.countplot(x='appointment',data=new_data,hue='gender',palette=\"coolwarm_r\")"
      ],
      "metadata": {
        "id": "fMi4ZGRy2Wti",
        "colab": {
          "base_uri": "https://localhost:8080/",
          "height": 296
        },
        "outputId": "6ee7dc90-a387-4960-d765-674fa3a95a4d"
      },
      "execution_count": 46,
      "outputs": [
        {
          "output_type": "execute_result",
          "data": {
            "text/plain": [
              "<matplotlib.axes._subplots.AxesSubplot at 0x7f97550ecb10>"
            ]
          },
          "metadata": {},
          "execution_count": 46
        },
        {
          "output_type": "display_data",
          "data": {
            "text/plain": [
              "<Figure size 432x288 with 1 Axes>"
            ],
            "image/png": "[encoded data removed]"
          },
          "metadata": {
            "needs_background": "light"
          }
        }
      ]
    },
    {
      "cell_type": "code",
      "source": [
        "#Gender has influence on appointment"
      ],
      "metadata": {
        "id": "kZQ9-IbC5scD"
      },
      "execution_count": 47,
      "outputs": []
    },
    {
      "cell_type": "code",
      "source": [
        "sns.countplot(x='appointment',data=new_data, hue='trust_tool',palette=\"coolwarm_r\")"
      ],
      "metadata": {
        "id": "EXoxf9thEA9V",
        "colab": {
          "base_uri": "https://localhost:8080/",
          "height": 296
        },
        "outputId": "3b080536-2b2c-4883-f101-6c95c721d984"
      },
      "execution_count": 48,
      "outputs": [
        {
          "output_type": "execute_result",
          "data": {
            "text/plain": [
              "<matplotlib.axes._subplots.AxesSubplot at 0x7f97500d4cd0>"
            ]
          },
          "metadata": {},
          "execution_count": 48
        },
        {
          "output_type": "display_data",
          "data": {
            "text/plain": [
              "<Figure size 432x288 with 1 Axes>"
            ],
            "image/png": "[encoded data removed]"
          },
          "metadata": {
            "needs_background": "light"
          }
        }
      ]
    },
    {
      "cell_type": "code",
      "source": [
        "# The appointment is also affected by the ease of using the tool."
      ],
      "metadata": {
        "id": "O7WQSyO0FsyU"
      },
      "execution_count": 49,
      "outputs": []
    },
    {
      "cell_type": "code",
      "source": [
        "sns.countplot(x='appointment',data=new_data, hue='partner',palette=\"coolwarm_r\")"
      ],
      "metadata": {
        "id": "_m9IeaXoGtOQ",
        "colab": {
          "base_uri": "https://localhost:8080/",
          "height": 296
        },
        "outputId": "09faaedf-8638-454f-9350-56dd5f23bae2"
      },
      "execution_count": 50,
      "outputs": [
        {
          "output_type": "execute_result",
          "data": {
            "text/plain": [
              "<matplotlib.axes._subplots.AxesSubplot at 0x7f97507f78d0>"
            ]
          },
          "metadata": {},
          "execution_count": 50
        },
        {
          "output_type": "display_data",
          "data": {
            "text/plain": [
              "<Figure size 432x288 with 1 Axes>"
            ],
            "image/png": "[encoded data removed]"
          },
          "metadata": {
            "needs_background": "light"
          }
        }
      ]
    },
    {
      "cell_type": "code",
      "source": [
        "#sns.countplot(x='appointment',data=new_data, hue='counsellor_name')"
      ],
      "metadata": {
        "id": "J7A8l6DrHQEP"
      },
      "execution_count": 51,
      "outputs": []
    },
    {
      "cell_type": "code",
      "source": [
        "#The counsellor has no effect on the appointment."
      ],
      "metadata": {
        "id": "BcAyBT39HiWW"
      },
      "execution_count": 52,
      "outputs": []
    },
    {
      "cell_type": "code",
      "source": [
        "sns.countplot(x='appointment',data=new_data, hue='art_initiation')"
      ],
      "metadata": {
        "id": "FGIth9QJIKwK",
        "colab": {
          "base_uri": "https://localhost:8080/",
          "height": 296
        },
        "outputId": "8cee0908-97ba-4bbd-9b57-fdd6b3bcccb8"
      },
      "execution_count": 53,
      "outputs": [
        {
          "output_type": "execute_result",
          "data": {
            "text/plain": [
              "<matplotlib.axes._subplots.AxesSubplot at 0x7f974fb22050>"
            ]
          },
          "metadata": {},
          "execution_count": 53
        },
        {
          "output_type": "display_data",
          "data": {
            "text/plain": [
              "<Figure size 432x288 with 1 Axes>"
            ],
            "image/png": "[encoded data removed]"
          },
          "metadata": {
            "needs_background": "light"
          }
        }
      ]
    },
    {
      "cell_type": "code",
      "source": [
        "new_data.keys()"
      ],
      "metadata": {
        "id": "-aTYG8-wMKYf",
        "colab": {
          "base_uri": "https://localhost:8080/"
        },
        "outputId": "fe9c7c5b-ab57-4d28-97e2-f38642cdbd7b"
      },
      "execution_count": 54,
      "outputs": [
        {
          "output_type": "execute_result",
          "data": {
            "text/plain": [
              "Index(['distribution_date', 'facility', 'counsellor_name', 'partner',\n",
              "       'kit_type', 'gender', 'last_tested',\n",
              "       'consent_for_aviro_to_collect_data', 'consent_to_obtain_test',\n",
              "       'appointment', 'hivss_result_confirmation', 'confirmatory_test_done',\n",
              "       'initiation_handover', 'art_initiation', 'art_number_issued',\n",
              "       'not_initiated_reason', 'hprs_engage', 'hprs_engage_stripped',\n",
              "       'hprs_ithaka_stripped', 'ithaka_engage_time_diff', 'similarity',\n",
              "       'matched_type', 'uid', 'language_response', 'hprs_ithaka',\n",
              "       'results_response', 'dropp_off_timestamp', 'dropp_off_screen',\n",
              "       'reminder_response', 'support_response', 'trust_tool', 'easy_tool',\n",
              "       'share', 'easy_test', 'info_value', 'tips'],\n",
              "      dtype='object')"
            ]
          },
          "metadata": {},
          "execution_count": 54
        }
      ]
    },
    {
      "cell_type": "code",
      "source": [
        ""
      ],
      "metadata": {
        "id": "q7v0J9dpW1ql"
      },
      "execution_count": 54,
      "outputs": []
    },
    {
      "cell_type": "code",
      "source": [
        "new_data['Dist_Month'] = new_data['distribution_date'].dt.month\n",
        "new_data['Drop_Month'] = new_data['dropp_off_timestamp'].dt.month"
      ],
      "metadata": {
        "id": "ya_gAQUCRM8_"
      },
      "execution_count": 55,
      "outputs": []
    },
    {
      "cell_type": "code",
      "source": [
        "\n",
        "new_data['Dist_Month_Year'] = pd.to_datetime(new_data['distribution_date']).dt.to_period('M')\n",
        "\n",
        "new_data['Drop_Month_Year'] = pd.to_datetime(new_data['dropp_off_timestamp']).dt.to_period('M')"
      ],
      "metadata": {
        "id": "ATXijfTVZ9Du"
      },
      "execution_count": 56,
      "outputs": []
    },
    {
      "cell_type": "code",
      "source": [
        "new_data['Drop_Month']"
      ],
      "metadata": {
        "id": "MjZ6D9nERvoa",
        "colab": {
          "base_uri": "https://localhost:8080/"
        },
        "outputId": "62109418-21d9-4890-8378-ec0660ccdf62"
      },
      "execution_count": 57,
      "outputs": [
        {
          "output_type": "execute_result",
          "data": {
            "text/plain": [
              "0        10.0\n",
              "1         NaN\n",
              "2         NaN\n",
              "3         NaN\n",
              "4         NaN\n",
              "         ... \n",
              "24486     9.0\n",
              "24487     9.0\n",
              "24488     9.0\n",
              "24489     9.0\n",
              "24490     9.0\n",
              "Name: Drop_Month, Length: 24491, dtype: float64"
            ]
          },
          "metadata": {},
          "execution_count": 57
        }
      ]
    },
    {
      "cell_type": "code",
      "source": [
        "ax = sns.histplot(x = 'Drop_Month', hue = 'appointment', data = new_data, multiple='dodge')\n",
        "ax.set(xlabel=\"Distribution in Months\", ylabel = \"Count\")"
      ],
      "metadata": {
        "id": "DCXUrIfkIUN3",
        "colab": {
          "base_uri": "https://localhost:8080/",
          "height": 296
        },
        "outputId": "7f2af585-39f6-49c9-e11a-58ca426c9d2c"
      },
      "execution_count": 58,
      "outputs": [
        {
          "output_type": "execute_result",
          "data": {
            "text/plain": [
              "[Text(0, 0.5, 'Count'), Text(0.5, 0, 'Distribution in Months')]"
            ]
          },
          "metadata": {},
          "execution_count": 58
        },
        {
          "output_type": "display_data",
          "data": {
            "text/plain": [
              "<Figure size 432x288 with 1 Axes>"
            ],
            "image/png": "[encoded data removed]"
          },
          "metadata": {
            "needs_background": "light"
          }
        }
      ]
    },
    {
      "cell_type": "code",
      "source": [
        "# There are more appointments at the begining of the year and towards the end of the year.\n",
        "# The same reflects for drop off"
      ],
      "metadata": {
        "id": "MHEqGboMMXre"
      },
      "execution_count": 59,
      "outputs": []
    },
    {
      "cell_type": "code",
      "source": [
        "new_data.keys()"
      ],
      "metadata": {
        "id": "qf9BK1CFfgy4",
        "colab": {
          "base_uri": "https://localhost:8080/"
        },
        "outputId": "3f43f420-25f2-47bc-e629-fa05e075d92d"
      },
      "execution_count": 60,
      "outputs": [
        {
          "output_type": "execute_result",
          "data": {
            "text/plain": [
              "Index(['distribution_date', 'facility', 'counsellor_name', 'partner',\n",
              "       'kit_type', 'gender', 'last_tested',\n",
              "       'consent_for_aviro_to_collect_data', 'consent_to_obtain_test',\n",
              "       'appointment', 'hivss_result_confirmation', 'confirmatory_test_done',\n",
              "       'initiation_handover', 'art_initiation', 'art_number_issued',\n",
              "       'not_initiated_reason', 'hprs_engage', 'hprs_engage_stripped',\n",
              "       'hprs_ithaka_stripped', 'ithaka_engage_time_diff', 'similarity',\n",
              "       'matched_type', 'uid', 'language_response', 'hprs_ithaka',\n",
              "       'results_response', 'dropp_off_timestamp', 'dropp_off_screen',\n",
              "       'reminder_response', 'support_response', 'trust_tool', 'easy_tool',\n",
              "       'share', 'easy_test', 'info_value', 'tips', 'Dist_Month', 'Drop_Month',\n",
              "       'Dist_Month_Year', 'Drop_Month_Year'],\n",
              "      dtype='object')"
            ]
          },
          "metadata": {},
          "execution_count": 60
        }
      ]
    },
    {
      "cell_type": "code",
      "source": [
        "new_data = new_data.drop(['distribution_date', 'dropp_off_timestamp',\n",
        "                          'Dist_Month', 'Drop_Month', 'Dist_Month_Year',\n",
        "       'Drop_Month_Year'],axis=1)"
      ],
      "metadata": {
        "id": "yZ8Lq8rLas14"
      },
      "execution_count": 61,
      "outputs": []
    },
    {
      "cell_type": "code",
      "source": [
        "y = new_data['appointment']"
      ],
      "metadata": {
        "id": "LRmTNFtneEte"
      },
      "execution_count": 62,
      "outputs": []
    },
    {
      "cell_type": "code",
      "source": [
        "new_data = new_data.drop(['appointment'],axis=1)"
      ],
      "metadata": {
        "id": "x5iA8J7N_y4C"
      },
      "execution_count": 63,
      "outputs": []
    },
    {
      "cell_type": "code",
      "source": [
        "X=pd.get_dummies(new_data,drop_first=True)\n",
        "X.head()"
      ],
      "metadata": {
        "id": "NjoaatD2SRkl",
        "colab": {
          "base_uri": "https://localhost:8080/",
          "height": 612
        },
        "outputId": "bc79e930-c462-4301-d7fe-5ba7bf40a93f"
      },
      "execution_count": 64,
      "outputs": [
        {
          "output_type": "execute_result",
          "data": {
            "text/plain": [
              "   hprs_engage_stripped  ithaka_engage_time_diff  similarity  \\\n",
              "0                 61953                    -17.0         1.0   \n",
              "1                 70273                      NaN         0.0   \n",
              "2                 29658                      NaN         0.0   \n",
              "3                 90414                      NaN         0.0   \n",
              "4                 90747                      NaN         0.0   \n",
              "\n",
              "   reminder_response  support_response  trust_tool  easy_tool  share  \\\n",
              "0                1.0               1.0         5.0        5.0    5.0   \n",
              "1                1.0               1.0         5.0        5.0    5.0   \n",
              "2                1.0               1.0         5.0        5.0    5.0   \n",
              "3                1.0               1.0         5.0        5.0    5.0   \n",
              "4                1.0               1.0         5.0        5.0    5.0   \n",
              "\n",
              "   easy_test  info_value  ...  tips_Yinhle kakhulu indlela esenisihlola ngayo  \\\n",
              "0        5.0         5.0  ...                                               0   \n",
              "1        5.0         5.0  ...                                               0   \n",
              "2        5.0         5.0  ...                                               0   \n",
              "3        5.0         5.0  ...                                               0   \n",
              "4        5.0         5.0  ...                                               0   \n",
              "\n",
              "   tips_Yinhle kakhulu lendlela kunale yokuxoxa ngomlomo nomeluleki ngcono uzwe kanje need usuqedile uyahamba  \\\n",
              "0                                                  0                                                            \n",
              "1                                                  0                                                            \n",
              "2                                                  0                                                            \n",
              "3                                                  0                                                            \n",
              "4                                                  0                                                            \n",
              "\n",
              "   tips_Yinhle lendlela enitesta ngayo  \\\n",
              "0                                    0   \n",
              "1                                    0   \n",
              "2                                    0   \n",
              "3                                    0   \n",
              "4                                    0   \n",
              "\n",
              "   tips_Yinhle lendlela esenenza ngayo ngoba iyasichazela ngegciwane umeluleki sengingambuza lokho nje ukumbalwa qhubekani nayo lendlela yokusihlola yinhle  \\\n",
              "0                                                  0                                                                                                          \n",
              "1                                                  0                                                                                                          \n",
              "2                                                  0                                                                                                          \n",
              "3                                                  0                                                                                                          \n",
              "4                                                  0                                                                                                          \n",
              "\n",
              "   tips_Yinhle lendlela esenisebenzisa manje qhubekani ngayo  \\\n",
              "0                                                  0           \n",
              "1                                                  0           \n",
              "2                                                  0           \n",
              "3                                                  0           \n",
              "4                                                  0           \n",
              "\n",
              "   tips_Yinhle lendlela esenisihlola ngayo kanje ithuthukile kunale ebesiyijwayele ngoba konke ukuthola kwi vidio awsalokhu usaba ukubuza Nina ubuza ubuza look nje at imibuzo eminingi ngoba usuke sowuktholile kwi vidio  \\\n",
              "0                                                  0                                                                                                                                                                         \n",
              "1                                                  0                                                                                                                                                                         \n",
              "2                                                  0                                                                                                                                                                         \n",
              "3                                                  0                                                                                                                                                                         \n",
              "4                                                  0                                                                                                                                                                         \n",
              "\n",
              "   tips_You can continue using this way of testing is useful  \\\n",
              "0                                                  0           \n",
              "1                                                  0           \n",
              "2                                                  0           \n",
              "3                                                  0           \n",
              "4                                                  0           \n",
              "\n",
              "   tips_You can continue with it  \\\n",
              "0                              0   \n",
              "1                              0   \n",
              "2                              0   \n",
              "3                              0   \n",
              "4                              0   \n",
              "\n",
              "   tips_You have to continue with this strategy it very nice  tips_no  \n",
              "0                                                  0                0  \n",
              "1                                                  0                0  \n",
              "2                                                  0                0  \n",
              "3                                                  0                0  \n",
              "4                                                  0                0  \n",
              "\n",
              "[5 rows x 79330 columns]"
            ],
            "text/html": [
              "\n",
              "  <div id=\"df-71c3efa1-4621-4907-9bf4-e0ee6f8678ef\">\n",
              "    <div class=\"colab-df-container\">\n",
              "      <div>\n",
              "<style scoped>\n",
              "    .dataframe tbody tr th:only-of-type {\n",
              "        vertical-align: middle;\n",
              "    }\n",
              "\n",
              "    .dataframe tbody tr th {\n",
              "        vertical-align: top;\n",
              "    }\n",
              "\n",
              "    .dataframe thead th {\n",
              "        text-align: right;\n",
              "    }\n",
              "</style>\n",
              "<table border=\"1\" class=\"dataframe\">\n",
              "  <thead>\n",
              "    <tr style=\"text-align: right;\">\n",
              "      <th></th>\n",
              "      <th>hprs_engage_stripped</th>\n",
              "      <th>ithaka_engage_time_diff</th>\n",
              "      <th>similarity</th>\n",
              "      <th>reminder_response</th>\n",
              "      <th>support_response</th>\n",
              "      <th>trust_tool</th>\n",
              "      <th>easy_tool</th>\n",
              "      <th>share</th>\n",
              "      <th>easy_test</th>\n",
              "      <th>info_value</th>\n",
              "      <th>...</th>\n",
              "      <th>tips_Yinhle kakhulu indlela esenisihlola ngayo</th>\n",
              "      <th>tips_Yinhle kakhulu lendlela kunale yokuxoxa ngomlomo nomeluleki ngcono uzwe kanje need usuqedile uyahamba</th>\n",
              "      <th>tips_Yinhle lendlela enitesta ngayo</th>\n",
              "      <th>tips_Yinhle lendlela esenenza ngayo ngoba iyasichazela ngegciwane umeluleki sengingambuza lokho nje ukumbalwa qhubekani nayo lendlela yokusihlola yinhle</th>\n",
              "      <th>tips_Yinhle lendlela esenisebenzisa manje qhubekani ngayo</th>\n",
              "      <th>tips_Yinhle lendlela esenisihlola ngayo kanje ithuthukile kunale ebesiyijwayele ngoba konke ukuthola kwi vidio awsalokhu usaba ukubuza Nina ubuza ubuza look nje at imibuzo eminingi ngoba usuke sowuktholile kwi vidio</th>\n",
              "      <th>tips_You can continue using this way of testing is useful</th>\n",
              "      <th>tips_You can continue with it</th>\n",
              "      <th>tips_You have to continue with this strategy it very nice</th>\n",
              "      <th>tips_no</th>\n",
              "    </tr>\n",
              "  </thead>\n",
              "  <tbody>\n",
              "    <tr>\n",
              "      <th>0</th>\n",
              "      <td>61953</td>\n",
              "      <td>-17.0</td>\n",
              "      <td>1.0</td>\n",
              "      <td>1.0</td>\n",
              "      <td>1.0</td>\n",
              "      <td>5.0</td>\n",
              "      <td>5.0</td>\n",
              "      <td>5.0</td>\n",
              "      <td>5.0</td>\n",
              "      <td>5.0</td>\n",
              "      <td>...</td>\n",
              "      <td>0</td>\n",
              "      <td>0</td>\n",
              "      <td>0</td>\n",
              "      <td>0</td>\n",
              "      <td>0</td>\n",
              "      <td>0</td>\n",
              "      <td>0</td>\n",
              "      <td>0</td>\n",
              "      <td>0</td>\n",
              "      <td>0</td>\n",
              "    </tr>\n",
              "    <tr>\n",
              "      <th>1</th>\n",
              "      <td>70273</td>\n",
              "      <td>NaN</td>\n",
              "      <td>0.0</td>\n",
              "      <td>1.0</td>\n",
              "      <td>1.0</td>\n",
              "      <td>5.0</td>\n",
              "      <td>5.0</td>\n",
              "      <td>5.0</td>\n",
              "      <td>5.0</td>\n",
              "      <td>5.0</td>\n",
              "      <td>...</td>\n",
              "      <td>0</td>\n",
              "      <td>0</td>\n",
              "      <td>0</td>\n",
              "      <td>0</td>\n",
              "      <td>0</td>\n",
              "      <td>0</td>\n",
              "      <td>0</td>\n",
              "      <td>0</td>\n",
              "      <td>0</td>\n",
              "      <td>0</td>\n",
              "    </tr>\n",
              "    <tr>\n",
              "      <th>2</th>\n",
              "      <td>29658</td>\n",
              "      <td>NaN</td>\n",
              "      <td>0.0</td>\n",
              "      <td>1.0</td>\n",
              "      <td>1.0</td>\n",
              "      <td>5.0</td>\n",
              "      <td>5.0</td>\n",
              "      <td>5.0</td>\n",
              "      <td>5.0</td>\n",
              "      <td>5.0</td>\n",
              "      <td>...</td>\n",
              "      <td>0</td>\n",
              "      <td>0</td>\n",
              "      <td>0</td>\n",
              "      <td>0</td>\n",
              "      <td>0</td>\n",
              "      <td>0</td>\n",
              "      <td>0</td>\n",
              "      <td>0</td>\n",
              "      <td>0</td>\n",
              "      <td>0</td>\n",
              "    </tr>\n",
              "    <tr>\n",
              "      <th>3</th>\n",
              "      <td>90414</td>\n",
              "      <td>NaN</td>\n",
              "      <td>0.0</td>\n",
              "      <td>1.0</td>\n",
              "      <td>1.0</td>\n",
              "      <td>5.0</td>\n",
              "      <td>5.0</td>\n",
              "      <td>5.0</td>\n",
              "      <td>5.0</td>\n",
              "      <td>5.0</td>\n",
              "      <td>...</td>\n",
              "      <td>0</td>\n",
              "      <td>0</td>\n",
              "      <td>0</td>\n",
              "      <td>0</td>\n",
              "      <td>0</td>\n",
              "      <td>0</td>\n",
              "      <td>0</td>\n",
              "      <td>0</td>\n",
              "      <td>0</td>\n",
              "      <td>0</td>\n",
              "    </tr>\n",
              "    <tr>\n",
              "      <th>4</th>\n",
              "      <td>90747</td>\n",
              "      <td>NaN</td>\n",
              "      <td>0.0</td>\n",
              "      <td>1.0</td>\n",
              "      <td>1.0</td>\n",
              "      <td>5.0</td>\n",
              "      <td>5.0</td>\n",
              "      <td>5.0</td>\n",
              "      <td>5.0</td>\n",
              "      <td>5.0</td>\n",
              "      <td>...</td>\n",
              "      <td>0</td>\n",
              "      <td>0</td>\n",
              "      <td>0</td>\n",
              "      <td>0</td>\n",
              "      <td>0</td>\n",
              "      <td>0</td>\n",
              "      <td>0</td>\n",
              "      <td>0</td>\n",
              "      <td>0</td>\n",
              "      <td>0</td>\n",
              "    </tr>\n",
              "  </tbody>\n",
              "</table>\n",
              "<p>5 rows × 79330 columns</p>\n",
              "</div>\n",
              "      <button class=\"colab-df-convert\" onclick=\"convertToInteractive('df-71c3efa1-4621-4907-9bf4-e0ee6f8678ef')\"\n",
              "              title=\"Convert this dataframe to an interactive table.\"\n",
              "              style=\"display:none;\">\n",
              "        \n",
              "  <svg xmlns=\"http://www.w3.org/2000/svg\" height=\"24px\"viewBox=\"0 0 24 24\"\n",
              "       width=\"24px\">\n",
              "    <path d=\"M0 0h24v24H0V0z\" fill=\"none\"/>\n",
              "    <path d=\"M18.56 5.44l.94 2.06.94-2.06 2.06-.94-2.06-.94-.94-2.06-.94 2.06-2.06.94zm-11 1L8.5 8.5l.94-2.06 2.06-.94-2.06-.94L8.5 2.5l-.94 2.06-2.06.94zm10 10l.94 2.06.94-2.06 2.06-.94-2.06-.94-.94-2.06-.94 2.06-2.06.94z\"/><path d=\"M17.41 7.96l-1.37-1.37c-.4-.4-.92-.59-1.43-.59-.52 0-1.04.2-1.43.59L10.3 9.45l-7.72 7.72c-.78.78-.78 2.05 0 2.83L4 21.41c.39.39.9.59 1.41.59.51 0 1.02-.2 1.41-.59l7.78-7.78 2.81-2.81c.8-.78.8-2.07 0-2.86zM5.41 20L4 18.59l7.72-7.72 1.47 1.35L5.41 20z\"/>\n",
              "  </svg>\n",
              "      </button>\n",
              "      \n",
              "  <style>\n",
              "    .colab-df-container {\n",
              "      display:flex;\n",
              "      flex-wrap:wrap;\n",
              "      gap: 12px;\n",
              "    }\n",
              "\n",
              "    .colab-df-convert {\n",
              "      background-color: #E8F0FE;\n",
              "      border: none;\n",
              "      border-radius: 50%;\n",
              "      cursor: pointer;\n",
              "      display: none;\n",
              "      fill: #1967D2;\n",
              "      height: 32px;\n",
              "      padding: 0 0 0 0;\n",
              "      width: 32px;\n",
              "    }\n",
              "\n",
              "    .colab-df-convert:hover {\n",
              "      background-color: #E2EBFA;\n",
              "      box-shadow: 0px 1px 2px rgba(60, 64, 67, 0.3), 0px 1px 3px 1px rgba(60, 64, 67, 0.15);\n",
              "      fill: #174EA6;\n",
              "    }\n",
              "\n",
              "    [theme=dark] .colab-df-convert {\n",
              "      background-color: #3B4455;\n",
              "      fill: #D2E3FC;\n",
              "    }\n",
              "\n",
              "    [theme=dark] .colab-df-convert:hover {\n",
              "      background-color: #434B5C;\n",
              "      box-shadow: 0px 1px 3px 1px rgba(0, 0, 0, 0.15);\n",
              "      filter: drop-shadow(0px 1px 2px rgba(0, 0, 0, 0.3));\n",
              "      fill: #FFFFFF;\n",
              "    }\n",
              "  </style>\n",
              "\n",
              "      <script>\n",
              "        const buttonEl =\n",
              "          document.querySelector('#df-71c3efa1-4621-4907-9bf4-e0ee6f8678ef button.colab-df-convert');\n",
              "        buttonEl.style.display =\n",
              "          google.colab.kernel.accessAllowed ? 'block' : 'none';\n",
              "\n",
              "        async function convertToInteractive(key) {\n",
              "          const element = document.querySelector('#df-71c3efa1-4621-4907-9bf4-e0ee6f8678ef');\n",
              "          const dataTable =\n",
              "            await google.colab.kernel.invokeFunction('convertToInteractive',\n",
              "                                                     [key], {});\n",
              "          if (!dataTable) return;\n",
              "\n",
              "          const docLinkHtml = 'Like what you see? Visit the ' +\n",
              "            '<a target=\"_blank\" href=https://colab.research.google.com/notebooks/data_table.ipynb>data table notebook</a>'\n",
              "            + ' to learn more about interactive tables.';\n",
              "          element.innerHTML = '';\n",
              "          dataTable['output_type'] = 'display_data';\n",
              "          await google.colab.output.renderOutput(dataTable, element);\n",
              "          const docLink = document.createElement('div');\n",
              "          docLink.innerHTML = docLinkHtml;\n",
              "          element.appendChild(docLink);\n",
              "        }\n",
              "      </script>\n",
              "    </div>\n",
              "  </div>\n",
              "  "
            ]
          },
          "metadata": {},
          "execution_count": 64
        }
      ]
    },
    {
      "cell_type": "code",
      "source": [
        ""
      ],
      "metadata": {
        "id": "1-ynXRLlfCWf"
      },
      "execution_count": 64,
      "outputs": []
    },
    {
      "cell_type": "code",
      "source": [
        "new_data.keys()"
      ],
      "metadata": {
        "id": "HsghauHaiBF3",
        "colab": {
          "base_uri": "https://localhost:8080/"
        },
        "outputId": "495d5c22-36c6-4127-a1ec-27a8362cd533"
      },
      "execution_count": 65,
      "outputs": [
        {
          "output_type": "execute_result",
          "data": {
            "text/plain": [
              "Index(['facility', 'counsellor_name', 'partner', 'kit_type', 'gender',\n",
              "       'last_tested', 'consent_for_aviro_to_collect_data',\n",
              "       'consent_to_obtain_test', 'hivss_result_confirmation',\n",
              "       'confirmatory_test_done', 'initiation_handover', 'art_initiation',\n",
              "       'art_number_issued', 'not_initiated_reason', 'hprs_engage',\n",
              "       'hprs_engage_stripped', 'hprs_ithaka_stripped',\n",
              "       'ithaka_engage_time_diff', 'similarity', 'matched_type', 'uid',\n",
              "       'language_response', 'hprs_ithaka', 'results_response',\n",
              "       'dropp_off_screen', 'reminder_response', 'support_response',\n",
              "       'trust_tool', 'easy_tool', 'share', 'easy_test', 'info_value', 'tips'],\n",
              "      dtype='object')"
            ]
          },
          "metadata": {},
          "execution_count": 65
        }
      ]
    },
    {
      "cell_type": "code",
      "source": [
        "'''\n",
        "from sklearn.preprocessing import MinMaxScaler\n",
        "features = X.columns.values\n",
        "scaler = MinMaxScaler(feature_range = (0,1))\n",
        "scaler.fit(X)\n",
        "X = pd.DataFrame(scaler.transform(X))\n",
        "X.columns = features\n",
        "X.head()\n",
        "'''"
      ],
      "metadata": {
        "id": "3xsARppmUdPU",
        "colab": {
          "base_uri": "https://localhost:8080/",
          "height": 53
        },
        "outputId": "8178bd48-de8a-464f-9345-6179764360dc"
      },
      "execution_count": 66,
      "outputs": [
        {
          "output_type": "execute_result",
          "data": {
            "text/plain": [
              "'\\nfrom sklearn.preprocessing import MinMaxScaler\\nfeatures = X.columns.values\\nscaler = MinMaxScaler(feature_range = (0,1))\\nscaler.fit(X)\\nX = pd.DataFrame(scaler.transform(X))\\nX.columns = features\\nX.head()\\n'"
            ],
            "application/vnd.google.colaboratory.intrinsic+json": {
              "type": "string"
            }
          },
          "metadata": {},
          "execution_count": 66
        }
      ]
    },
    {
      "cell_type": "code",
      "source": [
        "from sklearn.model_selection import train_test_split\n",
        "X_train, X_test, y_train, y_test = train_test_split(X, y, test_size=0.3, random_state=41)"
      ],
      "metadata": {
        "id": "Yl-bS1JzVL3A"
      },
      "execution_count": 67,
      "outputs": []
    },
    {
      "cell_type": "code",
      "source": [
        "#LOGISTIC REGRESSION"
      ],
      "metadata": {
        "id": "P93rrJfO3TFD"
      },
      "execution_count": 68,
      "outputs": []
    },
    {
      "cell_type": "code",
      "source": [
        "\"\"\"\n",
        "from sklearn.linear_model import LogisticRegression \n",
        "logreg=LogisticRegression()\n",
        "logreg.fit(X_train,y_train)\n",
        "prediction_logreg=logreg.predict(X_test)\n",
        "print(accuracy_score(y_test,prediction_logreg))\n",
        "\"\"\""
      ],
      "metadata": {
        "id": "ioiMzHtbArXz",
        "colab": {
          "base_uri": "https://localhost:8080/",
          "height": 53
        },
        "outputId": "bcfe979a-c414-4499-d870-a1b2264d01b9"
      },
      "execution_count": 69,
      "outputs": [
        {
          "output_type": "execute_result",
          "data": {
            "text/plain": [
              "'\\nfrom sklearn.linear_model import LogisticRegression \\nlogreg=LogisticRegression()\\nlogreg.fit(X_train,y_train)\\nprediction_logreg=logreg.predict(X_test)\\nprint(accuracy_score(y_test,prediction_logreg))\\n'"
            ],
            "application/vnd.google.colaboratory.intrinsic+json": {
              "type": "string"
            }
          },
          "metadata": {},
          "execution_count": 69
        }
      ]
    },
    {
      "cell_type": "code",
      "source": [
        "# XGBOOST"
      ],
      "metadata": {
        "id": "zoB_fppOAzTm"
      },
      "execution_count": 70,
      "outputs": []
    },
    {
      "cell_type": "code",
      "source": [
        "from xgboost import XGBClassifier\n",
        "\"\"\"\n",
        "xgb_model = XGBClassifier()\n",
        "xgb_model.fit(X_train, y_train)\n",
        "prediction_xgb = xgb_model.predict(X_test)\n",
        "print(accuracy_score(y_test, prediction_xgb))\n",
        "\"\"\""
      ],
      "metadata": {
        "id": "GcUfLnvtFDmn",
        "colab": {
          "base_uri": "https://localhost:8080/",
          "height": 53
        },
        "outputId": "8b4bffc9-6d0e-494e-8f05-fd2ab309e999"
      },
      "execution_count": 71,
      "outputs": [
        {
          "output_type": "execute_result",
          "data": {
            "text/plain": [
              "'\\nxgb_model = XGBClassifier()\\nxgb_model.fit(X_train, y_train)\\nprediction_xgb = xgb_model.predict(X_test)\\nprint(accuracy_score(y_test, prediction_xgb))\\n'"
            ],
            "application/vnd.google.colaboratory.intrinsic+json": {
              "type": "string"
            }
          },
          "metadata": {},
          "execution_count": 71
        }
      ]
    },
    {
      "cell_type": "code",
      "source": [
        "# Random Forest using RandomCV"
      ],
      "metadata": {
        "id": "JQPYqlqgFTlV"
      },
      "execution_count": 72,
      "outputs": []
    },
    {
      "cell_type": "code",
      "source": [
        "from sklearn.ensemble import RandomForestClassifier\n",
        "rf_c=RandomForestClassifier()"
      ],
      "metadata": {
        "id": "AztXD2ynFUcN"
      },
      "execution_count": 73,
      "outputs": []
    },
    {
      "cell_type": "code",
      "source": [
        "param_grid={'n_estimators':[int(x) for x in np.linspace(start=200,stop=1200,num=11)],\n",
        "            'max_features':['auto','sqrt'],\n",
        "            'max_depth':[int(x) for x in np.linspace(start=10,stop=100,num=11)],\n",
        "            'min_samples_leaf':[1,2,3,5],\n",
        "            'min_samples_split':[2,5,10,15]}"
      ],
      "metadata": {
        "id": "zaxfM298FZiB"
      },
      "execution_count": 74,
      "outputs": []
    },
    {
      "cell_type": "code",
      "source": [
        "random_cv=RandomizedSearchCV(rf_c,param_grid,cv=3,verbose=2,random_state=42)\n",
        "random_cv.fit(X_train,y_train)\n",
        "best_random=random_cv.best_estimator_\n",
        "prediction_cv=best_random.predict(X_test)\n",
        "print(accuracy_score(y_test,prediction_cv))"
      ],
      "metadata": {
        "id": "VmIapm0kFnt4",
        "colab": {
          "base_uri": "https://localhost:8080/"
        },
        "outputId": "46de5960-ef5f-4415-b93b-6e59d4784ffd"
      },
      "execution_count": null,
      "outputs": [
        {
          "output_type": "stream",
          "name": "stdout",
          "text": [
            "Fitting 3 folds for each of 10 candidates, totalling 30 fits\n"
          ]
        }
      ]
    },
    {
      "cell_type": "code",
      "source": [
        ""
      ],
      "metadata": {
        "id": "9PMtxdI1dVof"
      },
      "execution_count": null,
      "outputs": []
    }
  ]
}